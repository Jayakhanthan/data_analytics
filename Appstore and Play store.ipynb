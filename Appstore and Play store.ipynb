{
    "nbformat_minor": 1, 
    "cells": [
        {
            "source": "# Profitable App Profiles for the App Store and Google Play Markets\u00b6\n", 
            "cell_type": "markdown", 
            "metadata": {
                "collapsed": true
            }
        }, 
        {
            "source": "We are a software company building apps for both Android and iOS. We make our apps available on Google Play and the App Store. \n\nWe only build apps that are free to download and install, and our main source of revenue consists of in-app ads. This means our revenue for any given app is mostly influenced by the number of users who use our app \u2014 the more users that see and engage with the adds, the better. Our goal for this project is to analyze data to help our developers understand what kinds of apps are likely to attract more users.", 
            "cell_type": "markdown", 
            "metadata": {}
        }, 
        {
            "source": "## Opening and Exploring Data\nIn the previous step, we outlined that our aim is to help our developers understand what kinds of apps are likely to attract more users on Google Play and the App Store. To do this, we'll need to collect and analyze data about mobile apps available on Google Play and the App Store.\n\nAs of September 2018, there were approximately 2 million iOS apps available on the App Store, and 2.1 million Android apps on Google Play.\n\nCollecting data for over four million apps requires a significant amount of time and money, so we'll try to analyze a sample of the data instead. To avoid spending resources on collecting new data ourselves, we should first try to see whether we can find any relevant existing data at no cost. Luckily, these are two data sets that seem suitable for our goals:\n\n- [A data set](https://www.kaggle.com/lava18/google-play-store-apps/home) containing data about approximately ten thousand Android apps from Google Play \u2014 the data was collected in August 2018\n- [A data set](https://www.kaggle.com/ramamet4/app-store-apple-data-set-10k-apps/home) containing data about approximately seven thousand iOS apps from the App Store \u2014 the data was collected in July 2017\n\nWe'll start by opening and exploring these two data sets. To make it easier for you to explore them, we created a function named explore_data() you can use repeatedly to print rows in a more readable way.", 
            "cell_type": "markdown", 
            "metadata": {}
        }, 
        {
            "execution_count": 6, 
            "cell_type": "code", 
            "metadata": {}, 
            "outputs": [], 
            "source": "# The code was removed by Watson Studio for sharing."
        }, 
        {
            "execution_count": 7, 
            "cell_type": "code", 
            "metadata": {}, 
            "outputs": [], 
            "source": "# The code was removed by Watson Studio for sharing."
        }, 
        {
            "execution_count": 16, 
            "cell_type": "code", 
            "metadata": {}, 
            "outputs": [], 
            "source": "from ibm_botocore.client import Config\nimport ibm_boto3\n\ncos1 = ibm_boto3.client(service_name='s3',\n    ibm_api_key_id=credentials_1['IBM_API_KEY_ID'],\n    ibm_service_instance_id=credentials_1['IAM_SERVICE_ID'],\n    ibm_auth_endpoint=credentials_1['IBM_AUTH_ENDPOINT'],\n    config=Config(signature_version='oauth'),\n    endpoint_url=credentials_1['ENDPOINT'])\n\ncos1.download_file(Bucket=credentials_1['BUCKET'],Key='AppleStore.csv',Filename='AppleStore.csv')\n\n\ncos2 = ibm_boto3.client(service_name='s3',\n    ibm_api_key_id=credentials_2['IBM_API_KEY_ID'],\n    ibm_service_instance_id=credentials_2['IAM_SERVICE_ID'],\n    ibm_auth_endpoint=credentials_2['IBM_AUTH_ENDPOINT'],\n    config=Config(signature_version='oauth'),\n    endpoint_url=credentials_2['ENDPOINT'])\n\ncos2.download_file(Bucket=credentials_2['BUCKET'],Key='googleplaystore.csv',Filename='googleplaystore1.csv')\n"
        }, 
        {
            "execution_count": 17, 
            "cell_type": "code", 
            "metadata": {}, 
            "outputs": [], 
            "source": "from csv import reader\n\n### The AppStore data set ###\nopened_file1 = open('AppleStore.csv')\nread_file1 = reader(opened_file1)\nios = list(read_file1)\nios_header = ios[0]\nios = ios[1:]\n\n### The googleplay data set ###\nopened_file2 = open('googleplaystore.csv')\nread_file2 = reader(opened_file2)\nandroid = list(read_file2)\nandroid_header = android[0]\nandroid = android[1:]"
        }, 
        {
            "execution_count": 18, 
            "cell_type": "code", 
            "metadata": {}, 
            "outputs": [], 
            "source": "def explore_data(dataset, start, end, rows_and_columns=False):\n    dataset_slice = dataset[start:end]    \n    for row in dataset_slice:\n        print(row)\n        print('\\n') # adds a new (empty) line between rows\n        \n    if rows_and_columns:\n        print('Number of rows:', len(dataset))\n        print('Number of columns:', len(dataset[0]))"
        }, 
        {
            "execution_count": 19, 
            "cell_type": "code", 
            "metadata": {}, 
            "outputs": [
                {
                    "output_type": "stream", 
                    "name": "stdout", 
                    "text": "['App', 'Category', 'Rating', 'Reviews', 'Size', 'Installs', 'Type', 'Price', 'Content Rating', 'Genres', 'Last Updated', 'Current Ver', 'Android Ver']\n\n\n['Photo Editor & Candy Camera & Grid & ScrapBook', 'ART_AND_DESIGN', '4.1', '159', '19M', '10,000+', 'Free', '0', 'Everyone', 'Art & Design', 'January 7, 2018', '1.0.0', '4.0.3 and up']\n\n\n['Coloring book moana', 'ART_AND_DESIGN', '3.9', '967', '14M', '500,000+', 'Free', '0', 'Everyone', 'Art & Design;Pretend Play', 'January 15, 2018', '2.0.0', '4.0.3 and up']\n\n\n['U Launcher Lite \u2013 FREE Live Cool Themes, Hide Apps', 'ART_AND_DESIGN', '4.7', '87510', '8.7M', '5,000,000+', 'Free', '0', 'Everyone', 'Art & Design', 'August 1, 2018', '1.2.4', '4.0.3 and up']\n\n\nNumber of rows: 10841\nNumber of columns: 13\n"
                }
            ], 
            "source": "print(android_header)\nprint('\\n')\nexplore_data(android, 0, 3, True)"
        }, 
        {
            "execution_count": 20, 
            "cell_type": "code", 
            "metadata": {}, 
            "outputs": [
                {
                    "output_type": "stream", 
                    "name": "stdout", 
                    "text": "['', 'id', 'track_name', 'size_bytes', 'currency', 'price', 'rating_count_tot', 'rating_count_ver', 'user_rating', 'user_rating_ver', 'ver', 'cont_rating', 'prime_genre', 'sup_devices.num', 'ipadSc_urls.num', 'lang.num', 'vpp_lic']\n\n\n['1', '281656475', 'PAC-MAN Premium', '100788224', 'USD', '3.99', '21292', '26', '4', '4.5', '6.3.5', '4+', 'Games', '38', '5', '10', '1']\n\n\n['2', '281796108', 'Evernote - stay organized', '158578688', 'USD', '0', '161065', '26', '4', '3.5', '8.2.2', '4+', 'Productivity', '37', '5', '23', '1']\n\n\n['3', '281940292', 'WeatherBug - Local Weather, Radar, Maps, Alerts', '100524032', 'USD', '0', '188583', '2822', '3.5', '4.5', '5.0.0', '4+', 'Weather', '37', '5', '3', '1']\n\n\nNumber of rows: 7197\nNumber of columns: 17\n"
                }
            ], 
            "source": "print(ios_header)\nprint('\\n')\nexplore_data(ios, 0, 3, True)"
        }, 
        {
            "execution_count": 26, 
            "cell_type": "code", 
            "metadata": {}, 
            "outputs": [], 
            "source": "import pandas as pd"
        }, 
        {
            "execution_count": 31, 
            "cell_type": "code", 
            "metadata": {}, 
            "outputs": [], 
            "source": "ios_df = pd.DataFrame(ios, columns=ios_header)"
        }, 
        {
            "execution_count": 33, 
            "cell_type": "code", 
            "metadata": {}, 
            "outputs": [
                {
                    "execution_count": 33, 
                    "metadata": {}, 
                    "data": {
                        "text/html": "<div>\n<style scoped>\n    .dataframe tbody tr th:only-of-type {\n        vertical-align: middle;\n    }\n\n    .dataframe tbody tr th {\n        vertical-align: top;\n    }\n\n    .dataframe thead th {\n        text-align: right;\n    }\n</style>\n<table border=\"1\" class=\"dataframe\">\n  <thead>\n    <tr style=\"text-align: right;\">\n      <th></th>\n      <th></th>\n      <th>id</th>\n      <th>track_name</th>\n      <th>size_bytes</th>\n      <th>currency</th>\n      <th>price</th>\n      <th>rating_count_tot</th>\n      <th>rating_count_ver</th>\n      <th>user_rating</th>\n      <th>user_rating_ver</th>\n      <th>ver</th>\n      <th>cont_rating</th>\n      <th>prime_genre</th>\n      <th>sup_devices.num</th>\n      <th>ipadSc_urls.num</th>\n      <th>lang.num</th>\n      <th>vpp_lic</th>\n    </tr>\n  </thead>\n  <tbody>\n    <tr>\n      <th>0</th>\n      <td>1</td>\n      <td>281656475</td>\n      <td>PAC-MAN Premium</td>\n      <td>100788224</td>\n      <td>USD</td>\n      <td>3.99</td>\n      <td>21292</td>\n      <td>26</td>\n      <td>4</td>\n      <td>4.5</td>\n      <td>6.3.5</td>\n      <td>4+</td>\n      <td>Games</td>\n      <td>38</td>\n      <td>5</td>\n      <td>10</td>\n      <td>1</td>\n    </tr>\n    <tr>\n      <th>1</th>\n      <td>2</td>\n      <td>281796108</td>\n      <td>Evernote - stay organized</td>\n      <td>158578688</td>\n      <td>USD</td>\n      <td>0</td>\n      <td>161065</td>\n      <td>26</td>\n      <td>4</td>\n      <td>3.5</td>\n      <td>8.2.2</td>\n      <td>4+</td>\n      <td>Productivity</td>\n      <td>37</td>\n      <td>5</td>\n      <td>23</td>\n      <td>1</td>\n    </tr>\n    <tr>\n      <th>2</th>\n      <td>3</td>\n      <td>281940292</td>\n      <td>WeatherBug - Local Weather, Radar, Maps, Alerts</td>\n      <td>100524032</td>\n      <td>USD</td>\n      <td>0</td>\n      <td>188583</td>\n      <td>2822</td>\n      <td>3.5</td>\n      <td>4.5</td>\n      <td>5.0.0</td>\n      <td>4+</td>\n      <td>Weather</td>\n      <td>37</td>\n      <td>5</td>\n      <td>3</td>\n      <td>1</td>\n    </tr>\n    <tr>\n      <th>3</th>\n      <td>4</td>\n      <td>282614216</td>\n      <td>eBay: Best App to Buy, Sell, Save! Online Shop...</td>\n      <td>128512000</td>\n      <td>USD</td>\n      <td>0</td>\n      <td>262241</td>\n      <td>649</td>\n      <td>4</td>\n      <td>4.5</td>\n      <td>5.10.0</td>\n      <td>12+</td>\n      <td>Shopping</td>\n      <td>37</td>\n      <td>5</td>\n      <td>9</td>\n      <td>1</td>\n    </tr>\n    <tr>\n      <th>4</th>\n      <td>5</td>\n      <td>282935706</td>\n      <td>Bible</td>\n      <td>92774400</td>\n      <td>USD</td>\n      <td>0</td>\n      <td>985920</td>\n      <td>5320</td>\n      <td>4.5</td>\n      <td>5</td>\n      <td>7.5.1</td>\n      <td>4+</td>\n      <td>Reference</td>\n      <td>37</td>\n      <td>5</td>\n      <td>45</td>\n      <td>1</td>\n    </tr>\n  </tbody>\n</table>\n</div>", 
                        "text/plain": "             id                                         track_name size_bytes  \\\n0  1  281656475                                    PAC-MAN Premium  100788224   \n1  2  281796108                          Evernote - stay organized  158578688   \n2  3  281940292    WeatherBug - Local Weather, Radar, Maps, Alerts  100524032   \n3  4  282614216  eBay: Best App to Buy, Sell, Save! Online Shop...  128512000   \n4  5  282935706                                              Bible   92774400   \n\n  currency price rating_count_tot rating_count_ver user_rating  \\\n0      USD  3.99            21292               26           4   \n1      USD     0           161065               26           4   \n2      USD     0           188583             2822         3.5   \n3      USD     0           262241              649           4   \n4      USD     0           985920             5320         4.5   \n\n  user_rating_ver     ver cont_rating   prime_genre sup_devices.num  \\\n0             4.5   6.3.5          4+         Games              38   \n1             3.5   8.2.2          4+  Productivity              37   \n2             4.5   5.0.0          4+       Weather              37   \n3             4.5  5.10.0         12+      Shopping              37   \n4               5   7.5.1          4+     Reference              37   \n\n  ipadSc_urls.num lang.num vpp_lic  \n0               5       10       1  \n1               5       23       1  \n2               5        3       1  \n3               5        9       1  \n4               5       45       1  "
                    }, 
                    "output_type": "execute_result"
                }
            ], 
            "source": "ios_df.head()"
        }, 
        {
            "execution_count": 35, 
            "cell_type": "code", 
            "metadata": {}, 
            "outputs": [
                {
                    "execution_count": 35, 
                    "metadata": {}, 
                    "data": {
                        "text/html": "<div>\n<style scoped>\n    .dataframe tbody tr th:only-of-type {\n        vertical-align: middle;\n    }\n\n    .dataframe tbody tr th {\n        vertical-align: top;\n    }\n\n    .dataframe thead th {\n        text-align: right;\n    }\n</style>\n<table border=\"1\" class=\"dataframe\">\n  <thead>\n    <tr style=\"text-align: right;\">\n      <th></th>\n      <th>App</th>\n      <th>Category</th>\n      <th>Rating</th>\n      <th>Reviews</th>\n      <th>Size</th>\n      <th>Installs</th>\n      <th>Type</th>\n      <th>Price</th>\n      <th>Content Rating</th>\n      <th>Genres</th>\n      <th>Last Updated</th>\n      <th>Current Ver</th>\n      <th>Android Ver</th>\n    </tr>\n  </thead>\n  <tbody>\n    <tr>\n      <th>0</th>\n      <td>Photo Editor &amp; Candy Camera &amp; Grid &amp; ScrapBook</td>\n      <td>ART_AND_DESIGN</td>\n      <td>4.1</td>\n      <td>159</td>\n      <td>19M</td>\n      <td>10,000+</td>\n      <td>Free</td>\n      <td>0</td>\n      <td>Everyone</td>\n      <td>Art &amp; Design</td>\n      <td>January 7, 2018</td>\n      <td>1.0.0</td>\n      <td>4.0.3 and up</td>\n    </tr>\n    <tr>\n      <th>1</th>\n      <td>Coloring book moana</td>\n      <td>ART_AND_DESIGN</td>\n      <td>3.9</td>\n      <td>967</td>\n      <td>14M</td>\n      <td>500,000+</td>\n      <td>Free</td>\n      <td>0</td>\n      <td>Everyone</td>\n      <td>Art &amp; Design;Pretend Play</td>\n      <td>January 15, 2018</td>\n      <td>2.0.0</td>\n      <td>4.0.3 and up</td>\n    </tr>\n    <tr>\n      <th>2</th>\n      <td>U Launcher Lite \u2013 FREE Live Cool Themes, Hide ...</td>\n      <td>ART_AND_DESIGN</td>\n      <td>4.7</td>\n      <td>87510</td>\n      <td>8.7M</td>\n      <td>5,000,000+</td>\n      <td>Free</td>\n      <td>0</td>\n      <td>Everyone</td>\n      <td>Art &amp; Design</td>\n      <td>August 1, 2018</td>\n      <td>1.2.4</td>\n      <td>4.0.3 and up</td>\n    </tr>\n    <tr>\n      <th>3</th>\n      <td>Sketch - Draw &amp; Paint</td>\n      <td>ART_AND_DESIGN</td>\n      <td>4.5</td>\n      <td>215644</td>\n      <td>25M</td>\n      <td>50,000,000+</td>\n      <td>Free</td>\n      <td>0</td>\n      <td>Teen</td>\n      <td>Art &amp; Design</td>\n      <td>June 8, 2018</td>\n      <td>Varies with device</td>\n      <td>4.2 and up</td>\n    </tr>\n    <tr>\n      <th>4</th>\n      <td>Pixel Draw - Number Art Coloring Book</td>\n      <td>ART_AND_DESIGN</td>\n      <td>4.3</td>\n      <td>967</td>\n      <td>2.8M</td>\n      <td>100,000+</td>\n      <td>Free</td>\n      <td>0</td>\n      <td>Everyone</td>\n      <td>Art &amp; Design;Creativity</td>\n      <td>June 20, 2018</td>\n      <td>1.1</td>\n      <td>4.4 and up</td>\n    </tr>\n  </tbody>\n</table>\n</div>", 
                        "text/plain": "                                                 App        Category Rating  \\\n0     Photo Editor & Candy Camera & Grid & ScrapBook  ART_AND_DESIGN    4.1   \n1                                Coloring book moana  ART_AND_DESIGN    3.9   \n2  U Launcher Lite \u2013 FREE Live Cool Themes, Hide ...  ART_AND_DESIGN    4.7   \n3                              Sketch - Draw & Paint  ART_AND_DESIGN    4.5   \n4              Pixel Draw - Number Art Coloring Book  ART_AND_DESIGN    4.3   \n\n  Reviews  Size     Installs  Type Price Content Rating  \\\n0     159   19M      10,000+  Free     0       Everyone   \n1     967   14M     500,000+  Free     0       Everyone   \n2   87510  8.7M   5,000,000+  Free     0       Everyone   \n3  215644   25M  50,000,000+  Free     0           Teen   \n4     967  2.8M     100,000+  Free     0       Everyone   \n\n                      Genres      Last Updated         Current Ver  \\\n0               Art & Design   January 7, 2018               1.0.0   \n1  Art & Design;Pretend Play  January 15, 2018               2.0.0   \n2               Art & Design    August 1, 2018               1.2.4   \n3               Art & Design      June 8, 2018  Varies with device   \n4    Art & Design;Creativity     June 20, 2018                 1.1   \n\n    Android Ver  \n0  4.0.3 and up  \n1  4.0.3 and up  \n2  4.0.3 and up  \n3    4.2 and up  \n4    4.4 and up  "
                    }, 
                    "output_type": "execute_result"
                }
            ], 
            "source": "android_df = pd.DataFrame(android, columns=android_header)\nandroid_df.head()"
        }, 
        {
            "execution_count": 39, 
            "cell_type": "code", 
            "metadata": {}, 
            "outputs": [
                {
                    "execution_count": 39, 
                    "metadata": {}, 
                    "data": {
                        "text/html": "<div>\n<style scoped>\n    .dataframe tbody tr th:only-of-type {\n        vertical-align: middle;\n    }\n\n    .dataframe tbody tr th {\n        vertical-align: top;\n    }\n\n    .dataframe thead th {\n        text-align: right;\n    }\n</style>\n<table border=\"1\" class=\"dataframe\">\n  <thead>\n    <tr style=\"text-align: right;\">\n      <th></th>\n      <th>App</th>\n      <th>Category</th>\n      <th>Rating</th>\n      <th>Reviews</th>\n      <th>Size</th>\n      <th>Installs</th>\n      <th>Type</th>\n      <th>Price</th>\n      <th>Content Rating</th>\n      <th>Genres</th>\n      <th>Last Updated</th>\n      <th>Current Ver</th>\n      <th>Android Ver</th>\n    </tr>\n  </thead>\n  <tbody>\n    <tr>\n      <th>count</th>\n      <td>10841</td>\n      <td>10841</td>\n      <td>10841</td>\n      <td>10841</td>\n      <td>10841</td>\n      <td>10841</td>\n      <td>10841</td>\n      <td>10841</td>\n      <td>10841</td>\n      <td>10841</td>\n      <td>10841</td>\n      <td>10841</td>\n      <td>10840</td>\n    </tr>\n    <tr>\n      <th>unique</th>\n      <td>9660</td>\n      <td>34</td>\n      <td>41</td>\n      <td>6002</td>\n      <td>462</td>\n      <td>22</td>\n      <td>4</td>\n      <td>93</td>\n      <td>7</td>\n      <td>120</td>\n      <td>1378</td>\n      <td>2834</td>\n      <td>34</td>\n    </tr>\n    <tr>\n      <th>top</th>\n      <td>ROBLOX</td>\n      <td>FAMILY</td>\n      <td>NaN</td>\n      <td>0</td>\n      <td>Varies with device</td>\n      <td>1,000,000+</td>\n      <td>Free</td>\n      <td>0</td>\n      <td>Everyone</td>\n      <td>Tools</td>\n      <td>August 3, 2018</td>\n      <td>Varies with device</td>\n      <td>4.1 and up</td>\n    </tr>\n    <tr>\n      <th>freq</th>\n      <td>9</td>\n      <td>1972</td>\n      <td>1474</td>\n      <td>596</td>\n      <td>1695</td>\n      <td>1579</td>\n      <td>10039</td>\n      <td>10040</td>\n      <td>8714</td>\n      <td>842</td>\n      <td>326</td>\n      <td>1459</td>\n      <td>2451</td>\n    </tr>\n  </tbody>\n</table>\n</div>", 
                        "text/plain": "           App Category Rating Reviews                Size    Installs   Type  \\\ncount    10841    10841  10841   10841               10841       10841  10841   \nunique    9660       34     41    6002                 462          22      4   \ntop     ROBLOX   FAMILY    NaN       0  Varies with device  1,000,000+   Free   \nfreq         9     1972   1474     596                1695        1579  10039   \n\n        Price Content Rating Genres    Last Updated         Current Ver  \\\ncount   10841          10841  10841           10841               10841   \nunique     93              7    120            1378                2834   \ntop         0       Everyone  Tools  August 3, 2018  Varies with device   \nfreq    10040           8714    842             326                1459   \n\n       Android Ver  \ncount        10840  \nunique          34  \ntop     4.1 and up  \nfreq          2451  "
                    }, 
                    "output_type": "execute_result"
                }
            ], 
            "source": "android_df.describe()"
        }, 
        {
            "execution_count": 41, 
            "cell_type": "code", 
            "metadata": {}, 
            "outputs": [
                {
                    "output_type": "stream", 
                    "name": "stdout", 
                    "text": "['App', 'Category', 'Rating', 'Reviews', 'Size', 'Installs', 'Type', 'Price', 'Content Rating', 'Genres', 'Last Updated', 'Current Ver', 'Android Ver']\n\n\n['Life Made WI-Fi Touchscreen Photo Frame', '1.9', '19', '3.0M', '1,000+', 'Free', '0', 'Everyone', '', 'February 11, 2018', '1.0.19', '4.0 and up']\n"
                }
            ], 
            "source": "print(android_header)\nprint('\\n')\nprint(android[10472])"
        }, 
        {
            "execution_count": 42, 
            "cell_type": "code", 
            "metadata": {}, 
            "outputs": [], 
            "source": "del android[10472]"
        }, 
        {
            "source": "## Removing the duplicate entries", 
            "cell_type": "markdown", 
            "metadata": {}
        }, 
        {
            "source": "We suspect there could be duplicate entries in the data, therefore we are trying to inspect one common duplicate issue raised in the discussion forums", 
            "cell_type": "markdown", 
            "metadata": {}
        }, 
        {
            "execution_count": 47, 
            "cell_type": "code", 
            "metadata": {}, 
            "outputs": [
                {
                    "output_type": "stream", 
                    "name": "stdout", 
                    "text": "['Instagram', 'SOCIAL', '4.5', '66577313', 'Varies with device', '1,000,000,000+', 'Free', '0', 'Teen', 'Social', 'July 31, 2018', 'Varies with device', 'Varies with device']\n['Instagram', 'SOCIAL', '4.5', '66577446', 'Varies with device', '1,000,000,000+', 'Free', '0', 'Teen', 'Social', 'July 31, 2018', 'Varies with device', 'Varies with device']\n['Instagram', 'SOCIAL', '4.5', '66577313', 'Varies with device', '1,000,000,000+', 'Free', '0', 'Teen', 'Social', 'July 31, 2018', 'Varies with device', 'Varies with device']\n['Instagram', 'SOCIAL', '4.5', '66509917', 'Varies with device', '1,000,000,000+', 'Free', '0', 'Teen', 'Social', 'July 31, 2018', 'Varies with device', 'Varies with device']\n\n 4  Duplicate values\n"
                }
            ], 
            "source": "n = 0\nfor i in android:\n    if 'Instagram' == i[0]:\n        print(i)\n        n += 1\nprint('\\n',n,' Duplicate values')"
        }, 
        {
            "source": "It's abvious there are four duplicate values for Instagram app, therefore its worthwile identify all duplicated entries and remove those before performing any analysis.", 
            "cell_type": "markdown", 
            "metadata": {}
        }, 
        {
            "execution_count": 77, 
            "cell_type": "code", 
            "metadata": {}, 
            "outputs": [], 
            "source": "def find_duplicate(data_set):\n    duplicate_list = {}\n    unique_apps = []\n    for i in data_set:\n        app_name = i[0]\n        if app_name in unique_apps:\n            duplicate_list[app_name] = 1\n        elif app_name in duplicate_list:\n            duplicate_list[app_name] += 1\n        else:\n            unique_apps.append(app_name)\n    no_of_duplicate = len(duplicate_list)\n    no_of_unique = len(unique_apps)\n    \n    return no_of_duplicate, no_of_unique, duplicate_list"
        }, 
        {
            "execution_count": 78, 
            "cell_type": "code", 
            "metadata": {}, 
            "outputs": [
                {
                    "execution_count": 78, 
                    "metadata": {}, 
                    "data": {
                        "text/plain": "(798,\n 9659,\n {'10 Best Foods for You': 1,\n  '1800 Contacts - Lens Store': 1,\n  '2017 EMRA Antibiotic Guide': 1,\n  '21-Day Meditation Experience': 1,\n  '365Scores - Live Scores': 1,\n  '420 BZ Budeze Delivery': 1,\n  '8 Ball Pool': 1,\n  '8fit Workouts & Meal Planner': 1,\n  '95Live -SG#1 Live Streaming App': 1,\n  'A Manual of Acupuncture': 1,\n  'A&E - Watch Full Episodes of TV Shows': 1,\n  'AAFP': 1,\n  'ABC News - US & World News': 1,\n  'AC - Tips & News for Android\u2122': 1,\n  'AP Mobile - Breaking News': 1,\n  'ASCCP Mobile': 1,\n  'ASOS': 1,\n  'Accounting App - Zoho Books': 1,\n  'AccuWeather: Daily Forecast & Live Weather Reports': 1,\n  'Acorns - Invest Spare Change': 1,\n  'AdWords Express': 1,\n  'Ada - Your Health Guide': 1,\n  'Adobe Acrobat Reader': 1,\n  'Adobe Photoshop Express:Photo Editor Collage Maker': 1,\n  'Adult Dirty Emojis': 1,\n  'Advanced Comprehension Therapy': 1,\n  'Agar.io': 1,\n  'Airbnb': 1,\n  'Airway Ex - Intubate. Anesthetize. Train.': 1,\n  'AliExpress - Smarter Shopping, Better Living': 1,\n  'All Football - Latest News & Videos': 1,\n  'All Mental disorders': 1,\n  'All Social Networks': 1,\n  \"Alto's Adventure\": 1,\n  'Amazon Kindle': 1,\n  'Amazon Shopping': 1,\n  'Amazon for Tablets': 1,\n  'American Airlines': 1,\n  'Amino: Communities and Chats': 1,\n  'AnatomyMapp': 1,\n  'Android Messages': 1,\n  'Anger of stick 5 : zombie': 1,\n  'Angry Birds 2': 1,\n  'Angry Birds Classic': 1,\n  'Angry Birds Rio': 1,\n  'Animal Jam - Play Wild!': 1,\n  'Anthem Anywhere': 1,\n  'Anthem BC Anywhere': 1,\n  'Any.do: To-do list, Calendar, Reminders & Planner': 1,\n  'Apartment List: Housing, Apt, and Property Rentals': 1,\n  'Apartments & Rentals - Zillow': 1,\n  'Apartments.com Rental Search': 1,\n  'Apex Launcher': 1,\n  'Asana: organize team projects': 1,\n  'Avokiddo Emotions': 1,\n  'B612 - Beauty & Filter Camera': 1,\n  'BBC News': 1,\n  'BBC Sport': 1,\n  'BBM - Free Calls & Messages': 1,\n  'BBW Dating & Curvy Singles Chat- LargeFriends': 1,\n  'BBW Dating & Plus Size Chat': 1,\n  'BET NOW - Watch Shows': 1,\n  'BP Journal - Blood Pressure Diary': 1,\n  'BZWBK24 mobile': 1,\n  'Babbel \u2013 Learn Languages': 1,\n  'Baby Panda Care': 1,\n  'Backgrounds HD (Wallpapers)': 1,\n  'Badoo - Free Chat & Dating App': 1,\n  'Banfield Pet Health Tracker': 1,\n  'Barbie\u2122 Fashion Closet': 1,\n  'Beautiful Widgets Free': 1,\n  'Beautiful Widgets Pro': 1,\n  'BeautyPlus - Easy Photo Editor & Selfie Camera': 1,\n  'Best Fiends - Free Puzzle Game': 1,\n  'BeyondMenu Food Delivery': 1,\n  'Bita and the Animals - Pelos Ares': 1,\n  'Black People Meet Singles Date': 1,\n  'Black White Interracial Dating - Interracial Match': 1,\n  'Bleacher Report: sports news, scores, & highlights': 1,\n  'Blendr - Chat, Flirt & Meet': 1,\n  'Block Buddy': 1,\n  'Block Craft 3D: Building Simulator Games For Free': 1,\n  'Block Puzzle': 1,\n  'Block Puzzle Classic Legend !': 1,\n  'Blood Pressure': 1,\n  'Blood Pressure Companion': 1,\n  'Blood Pressure Log - MyDiary': 1,\n  'Blood Pressure Monitor': 1,\n  'Blood Pressure(BP) Diary': 1,\n  'Blur Image Background': 1,\n  'Booking.com Travel Deals': 1,\n  'Bowmasters': 1,\n  'Box': 1,\n  'Breastfeeding Tracker Baby Log': 1,\n  'Brilliant': 1,\n  'Brit + Co': 1,\n  'British Airways': 1,\n  'Bubble Shooter': 1,\n  'Bubble Shooter 2': 1,\n  'BuzzFeed: News, Tasty, Quizzes': 1,\n  'C Programming': 1,\n  'CBS - Full Episodes & Live TV': 1,\n  'CBS Sports App - Scores, News, Stats & Watch Live': 1,\n  'CBS Sports Fantasy': 1,\n  'CJmall': 1,\n  'CM Browser - Ad Blocker , Fast Download , Privacy': 1,\n  'CM FILE MANAGER HD': 1,\n  'CM Flashlight (Compass, SOS)': 1,\n  'CM Launcher 3D - Theme, Wallpapers, Efficient': 1,\n  'CM Locker - Security Lockscreen': 1,\n  'CMB Free Dating App': 1,\n  'CNBC: Breaking Business News & Live Market Data': 1,\n  'CNN Breaking US & World News': 1,\n  \"COOKING MAMA Let's Cook!\": 1,\n  'CT Scan Cross Sectional Anatomy': 1,\n  'CW Seed': 1,\n  'Cache Cleaner-DU Speed Booster (booster & cleaner)': 1,\n  'Calculator': 1,\n  'Call Blocker': 1,\n  'CallApp: Caller ID, Blocker & Phone Call Recorder': 1,\n  'Calls & Text by Mo+': 1,\n  'Calm - Meditate, Sleep, Relax': 1,\n  'Calorie Counter & Diet Tracker': 1,\n  'Calorie Counter - Macros': 1,\n  'Calorie Counter - MyFitnessPal': 1,\n  'Calorie Counter - MyNetDiary': 1,\n  'Calorie Counter by FatSecret': 1,\n  'Camera FV-5': 1,\n  'Camera FV-5 Lite': 1,\n  'Camera MX - Free Photo & Video Camera': 1,\n  'Camera for Android': 1,\n  'Camera360 Lite - Selfie Camera': 1,\n  'Camera360: Selfie Photo Editor with Funny Sticker': 1,\n  'Candy Bomb': 1,\n  'Candy Camera - selfie, beauty camera, photo editor': 1,\n  'Candy Crush Jelly Saga': 1,\n  'Candy Crush Saga': 1,\n  'Candy Crush Soda Saga': 1,\n  'Capital One\u00ae Mobile': 1,\n  'Cardboard': 1,\n  'Cardi B Live Stream Video Chat - Prank': 1,\n  'Cardiac diagnosis (heart rate, arrhythmia)': 1,\n  'Carousell: Snap-Sell, Chat-Buy': 1,\n  'Cartoon Network App': 1,\n  'Castle Clash: Heroes of the Empire US': 1,\n  'Casual Dating & Adult Singles - Joyride': 1,\n  'Chat Kids - Chat Room For Kids': 1,\n  'Chat Rooms, Avatars, Date - Galaxy': 1,\n  'Cheapflights \u2013 Flight Search': 1,\n  'Checkout 51: Grocery coupons': 1,\n  'Chess Free': 1,\n  'Chick-fil-A': 1,\n  'Chictopia': 1,\n  'Chispa, the Dating App for Latino, Latina Singles': 1,\n  'Choices: Stories You Play': 1,\n  'Christian Dating For Free App': 1,\n  'Chrome Beta': 1,\n  'Chrome Dev': 1,\n  'Clash Royale': 1,\n  'Clash of Clans': 1,\n  'ClassDojo': 1,\n  'Clover Dating App': 1,\n  'Color by Number \u2013 New Coloring Book': 1,\n  'ColorNote Notepad Notes': 1,\n  'Colorfy: Coloring Book for Adults - Free': 1,\n  'Coloring book moana': 1,\n  'Comedy Central': 1,\n  'Cooking Fever': 1,\n  'Cougar Dating Life : Date Older Women Sugar Mummy': 1,\n  'Couple - Relationship App': 1,\n  'Coursera: Online courses': 1,\n  'CppDroid - C/C++ IDE': 1,\n  'Crackle - Free TV & Movies': 1,\n  'Credit Karma': 1,\n  'Crew - Free Messaging and Scheduling': 1,\n  'Cricbuzz - Live Cricket Scores & News': 1,\n  'Crossy Road': 1,\n  'Crunchyroll - Everything Anime': 1,\n  'Curriculum vitae App CV Builder Free Resume Maker': 1,\n  'Cut the Rope FULL FREE': 1,\n  'Cymera Camera- Photo Editor, Filter,Collage,Layout': 1,\n  'DC Comics': 1,\n  'DC Super Hero Girls\u2122': 1,\n  'DEAD TARGET: FPS Zombie Apocalypse Survival Games': 1,\n  'DEER HUNTER 2018': 1,\n  'DINO HUNTER: DEADLY SHORES': 1,\n  'DRAGON BALL LEGENDS': 1,\n  'DU Browser\u2014Browse fast & fun': 1,\n  'Daily Manga - Comic & Webtoon': 1,\n  'Daily Yoga - Yoga Fitness Plans': 1,\n  'Dairy Queen': 1,\n  'Dating App, Flirt & Chat : W-Match': 1,\n  'Dating for 50 plus Mature Singles \u2013 FINALLY': 1,\n  'Diabetes & Diet Tracker': 1,\n  'Diabetes:M': 1,\n  'Diary with lock': 1,\n  'Dictionary - Merriam-Webster': 1,\n  'Digit Save Money Automatically': 1,\n  'Disney Magic Kingdoms: Build Your Own Magical Park': 1,\n  'DisneyNOW \u2013 TV Shows & Games': 1,\n  'Do It Later: Tasks & To-Dos': 1,\n  'Docs To Go\u2122 Free Office Suite': 1,\n  'Dog Run - Pet Dog Simulator': 1,\n  \"Domino's Pizza USA\": 1,\n  \"Dr. Panda & Toto's Treehouse\": 1,\n  'Dream League Soccer 2018': 1,\n  'DreamWorks Friends': 1,\n  'Dropbox': 1,\n  'Dude Perfect 2': 1,\n  'Dungeon Hunter Champions: Epic Online Action RPG': 1,\n  \"Dunkin' Donuts\": 1,\n  'Duolingo: Learn Languages Free': 1,\n  'E*TRADE Mobile': 1,\n  'EMT PASS': 1,\n  'EMT Review Plus': 1,\n  'EMT Tutor NREMT-B Study Guide': 1,\n  'EMT-B Pocket Prep': 1,\n  'ES File Explorer File Manager': 1,\n  'ESPN': 1,\n  'ESPN Fantasy Sports': 1,\n  'Earn to Die 2': 1,\n  'Ebook Reader': 1,\n  'Edmodo': 1,\n  'EliteSingles \u2013 Dating for Single Professionals': 1,\n  'Elmo Calls by Sesame Street': 1,\n  'Endomondo - Running & Walking': 1,\n  'English Dictionary - Offline': 1,\n  'English Grammar Test': 1,\n  'Episode - Choose Your Story': 1,\n  'Equestria Girls': 1,\n  'Essential Anatomy 3': 1,\n  'Etsy: Handmade & Vintage Goods': 1,\n  'Evernote \u2013 Organizer, Planner for Notes & Memos': 1,\n  'Expedia Hotels, Flights & Car Rental Travel Deals': 1,\n  'Extreme Coupon Finder': 1,\n  'FIFA - Tournaments, Soccer News & Live Scores': 1,\n  'FOX': 1,\n  'FOX NOW - On Demand & Live TV': 1,\n  'FOX Sports: Live Streaming, Scores & News': 1,\n  'FP Notebook': 1,\n  'Fabulous: Motivate Me! Meditate, Relax, Sleep': 1,\n  'Face Filter, Selfie Editor - Sweet Camera': 1,\n  'Facebook': 1,\n  'Facebook Ads Manager': 1,\n  'Facebook Lite': 1,\n  'Facebook Pages Manager': 1,\n  'Facetune - For Free': 1,\n  'Fallout Shelter': 1,\n  'Fancy': 1,\n  'Fandango Movies - Times + Tickets': 1,\n  'Fantasy Football': 1,\n  'Farm Heroes Saga': 1,\n  'FarmersOnly Dating': 1,\n  'Farming Simulator 14': 1,\n  'Fashion in Vogue': 1,\n  'Fast Scanner : Free PDF Scan': 1,\n  'FastMeet: Chat, Dating, Love': 1,\n  'FilterGrid - Cam&Photo Editor': 1,\n  'Final Fantasy XV: A New Empire': 1,\n  'Find Real Love \u2014 YouLove Premium Dating': 1,\n  'Firefox Browser fast & private': 1,\n  'Firefox Focus: The privacy browser': 1,\n  'Fishdom': 1,\n  'Fitbit Coach': 1,\n  'Flashlight': 1,\n  'Flickr': 1,\n  'Flipboard: News For Our Time': 1,\n  'Flipkart Online Shopping App': 1,\n  'Flipp - Weekly Shopping': 1,\n  'FlirtChat - \u2665Free Dating/Flirting App\u2665': 1,\n  'Flow Free': 1,\n  'Fly Delta': 1,\n  'Food Calorie Calculator': 1,\n  'Food Network': 1,\n  'FotMob - Live Soccer Scores': 1,\n  'Fox News \u2013 Breaking News, Live Video & News Alerts': 1,\n  'Free Blood Pressure': 1,\n  'Free Cam Girls - Live Webcam': 1,\n  'Free Dating & Flirt Chat - Choice of Love': 1,\n  'Free Dating App - Meet Local Singles - Flirt Chat': 1,\n  'Free Dating App - YoCutie - Flirt, Chat & Meet': 1,\n  'Free Dating Hook Up Messenger': 1,\n  'Free phone calls, free texting SMS on free number': 1,\n  'FreshBooks Classic': 1,\n  'Frozen Free Fall': 1,\n  'Fruits Bomb': 1,\n  'Fun Kid Racing - Motocross': 1,\n  'Fuzzy Numbers: Pre-K Number Foundation': 1,\n  'G Cloud Backup': 1,\n  'GO Keyboard - Emoticon keyboard, Free Theme, GIF': 1,\n  'Galaxy Attack: Alien Shooter': 1,\n  \"Game for KIDS: KIDS match'em\": 1,\n  'Gardenscapes': 1,\n  'Garena Free Fire': 1,\n  'Gay Sugar Daddy Dating & Hookup \u2013 Sudy Gay': 1,\n  'Gboard - the Google Keyboard': 1,\n  'Genius Scan - PDF Scanner': 1,\n  'Geometry Dash World': 1,\n  'Girls Live Chat - Free Text & Video Chat': 1,\n  'Glide - Video Chat Messenger': 1,\n  'Gmail': 1,\n  'Golfshot: Golf GPS + Tee Times': 1,\n  'Google': 1,\n  'Google Ads': 1,\n  'Google Allo': 1,\n  'Google Analytics': 1,\n  'Google Calendar': 1,\n  'Google Chrome: Fast & Secure': 1,\n  'Google Classroom': 1,\n  'Google Docs': 1,\n  'Google Drive': 1,\n  'Google Duo - High Quality Video Calls': 1,\n  'Google Earth': 1,\n  'Google Keep': 1,\n  'Google My Business': 1,\n  'Google News': 1,\n  'Google PDF Viewer': 1,\n  'Google Pay': 1,\n  'Google Photos': 1,\n  'Google Play Games': 1,\n  'Google Sheets': 1,\n  'Google Street View': 1,\n  'Google Translate': 1,\n  'Google Voice': 1,\n  'Google+': 1,\n  'Granny': 1,\n  'Groupon - Shop Deals, Discounts & Coupons': 1,\n  'Grubhub: Food Delivery': 1,\n  'Gyft - Mobile Gift Card Wallet': 1,\n  'H TV': 1,\n  'H&M': 1,\n  'HBO GO: Stream with TV Package': 1,\n  'HBO NOW: Stream TV & Movies': 1,\n  'HD Camera for Android': 1,\n  'HD Widgets': 1,\n  'HISTORY: Watch TV Show Full Episodes & Specials': 1,\n  'Hangouts': 1,\n  'Hangouts Dialer - Call Phones': 1,\n  'Harry Potter: Hogwarts Mystery': 1,\n  'Haystack TV: Local & World News - Free': 1,\n  'Headspace: Meditation & Mindfulness': 1,\n  'Health and Nutrition Guide': 1,\n  'Helix Jump': 1,\n  'Hello Kitty Nail Salon': 1,\n  'HelloTalk \u2014 Chat, Speak & Learn Foreign Languages': 1,\n  'Hide App, Private Dating, Safe Chat - PrivacyHider': 1,\n  'High Blood Pressure Symptoms': 1,\n  'Hill Climb Racing': 1,\n  'Hill Climb Racing 2': 1,\n  'Hily: Dating, Chat, Match, Meet & Hook up': 1,\n  'Hinge: Dating & Relationships': 1,\n  'HipChat - Chat Built for Teams': 1,\n  'Hole19: Golf GPS App, Rangefinder & Scorecard': 1,\n  'Home Security Camera WardenCam - reuse old phones': 1,\n  'Home Workout - No Equipment': 1,\n  'Homescapes': 1,\n  'Honkai Impact 3rd': 1,\n  'Hopper - Watch & Book Flights': 1,\n  'Hospitalist Handbook': 1,\n  'Hostelworld: Hostels & Cheap Hotels Travel App': 1,\n  'Hot Wheels: Race Off': 1,\n  'Hot or Not - Find someone right now': 1,\n  'HotelTonight: Book amazing deals at great hotels': 1,\n  'Hotels.com: Book Hotel Rooms & Find Vacation Deals': 1,\n  'Houzz Interior Design Ideas': 1,\n  'Howlr': 1,\n  'Hulu: Stream TV, Movies & more': 1,\n  'Human Anatomy Atlas 2018: Complete 3D Human Body': 1,\n  'Hungry Shark Evolution': 1,\n  'Hungry Shark World': 1,\n  'IBM Micromedex Drug Info': 1,\n  'IMDb Movies & TV': 1,\n  'Ibotta: Cash Back Savings, Rewards & Coupons App': 1,\n  'Idle Heroes': 1,\n  'Inside Out Thought Bubbles': 1,\n  'Insightly CRM': 1,\n  'InstaBeauty -Makeup Selfie Cam': 1,\n  'InstaSize Photo Filters & Collage Editor': 1,\n  'Instagram': 1,\n  'Invoice & Time Tracking - Zoho': 1,\n  'Invoice 2go \u2014 Professional Invoices and Estimates': 1,\n  'I\u2019m Expecting - Pregnancy App': 1,\n  'JH Blood Pressure Monitor': 1,\n  'JOANN - Crafts & Coupons': 1,\n  \"JackThreads: Men's Shopping\": 1,\n  'Jaumo Dating, Flirt & Live Video': 1,\n  'Jetpack Joyride': 1,\n  'Jewels Star: OZ adventure': 1,\n  'Journal Club: Medicine': 1,\n  'Jurassic World\u2122 Alive': 1,\n  'Just She - Top Lesbian Dating': 1,\n  'K PLUS': 1,\n  'KAYAK Flights, Hotels & Cars': 1,\n  'KakaoTalk: Free Calls & Text': 1,\n  'Khan Academy': 1,\n  'Kick the Buddy': 1,\n  'Kids Balloon Pop Game Free \ud83c\udf88': 1,\n  'Knife Hit': 1,\n  'LEGO\u00ae Juniors Create & Cruise': 1,\n  'LEGO\u00ae TV': 1,\n  'LINE Camera - Photo editor': 1,\n  'LINE WEBTOON - Free Comics': 1,\n  'LINE: Free Calls & Messages': 1,\n  'LOVOO': 1,\n  'Lark - 24/7 Health Coach': 1,\n  'Last Day on Earth: Survival': 1,\n  'Learn 50 languages': 1,\n  'Learn C++': 1,\n  'Learn English with Wlingua': 1,\n  'Learn languages, grammar & vocabulary with Memrise': 1,\n  'Lifetime - Watch Full Episodes & Original Movies': 1,\n  'LinkedIn': 1,\n  'Live Girls Talk - Free Video Chat': 1,\n  'Live Talk - Free Text and Video Chat': 1,\n  'LiveMe - Video chat, new friends, and make money': 1,\n  'LivingSocial - Local Deals': 1,\n  'Lose It! - Calorie Counter': 1,\n  'Love Balls': 1,\n  'Lumosity: #1 Brain Games & Cognitive Training App': 1,\n  'Lynda - Online Training Videos': 1,\n  'MARVEL Contest of Champions': 1,\n  'MARVEL Strike Force': 1,\n  'MEGA': 1,\n  'MLB At Bat': 1,\n  'MLB Ballpark': 1,\n  'MTV': 1,\n  'MX Player': 1,\n  'Magic Tiles 3': 1,\n  'MailChimp - Email, Marketing Automation': 1,\n  'Manga AZ - Manga Comic Reader': 1,\n  'Mango Languages: Lovable Language Courses': 1,\n  'Maps & GPS Navigation \u2014 OsmAnd': 1,\n  'Maps - Navigate & Explore': 1,\n  'Mapy.cz - Cycling & Hiking offline maps': 1,\n  'Maricopa AH': 1,\n  'Masha and the Bear Child Games': 1,\n  \"McDonald's\": 1,\n  'Mcqueen Coloring pages': 1,\n  'MealLogger-Photo Food Journal': 1,\n  'Medical ID - In Case of Emergency (ICE)': 1,\n  'Meditation Music - Relax, Yoga': 1,\n  'Meet24 - Love, Chat, Singles': 1,\n  'Meet4U - Chat, Love, Singles!': 1,\n  'MeetMe: Chat & Meet New People': 1,\n  'Meetup': 1,\n  'Merge Dragons!': 1,\n  'Messages, Text and Video Chat for Messenger': 1,\n  'Messenger Lite: Free Calls & Messages': 1,\n  'Messenger \u2013 Text and Video Chat for Free': 1,\n  'Metal Soldiers 2': 1,\n  'Microsoft Edge': 1,\n  'Microsoft Excel': 1,\n  'Microsoft OneDrive': 1,\n  'Microsoft OneNote': 1,\n  'Microsoft Outlook': 1,\n  'Microsoft PowerPoint': 1,\n  'Microsoft Word': 1,\n  'Millionaire Match: Rich Singles Dating App': 1,\n  'Minecraft': 1,\n  'Minion Rush: Despicable Me Official Game': 1,\n  'Mint: Budget, Bills, Finance': 1,\n  'Miraculous Ladybug & Cat Noir - The Official Game': 1,\n  'Mobi Calculator free & AD free!': 1,\n  'Mobile Doc Scanner (MDScan) Lite': 1,\n  'Moco - Chat, Meet People': 1,\n  'Moco+ - Chat, Meet People': 1,\n  \"Modcloth \u2013 Unique Indie Women's Fashion & Style\": 1,\n  'Monash Uni Low FODMAP Diet': 1,\n  'Money Lover: Expense Tracker, Budget Planner': 1,\n  'Moneycontrol \u2013 Stocks, Sensex, Mutual Funds, IPO': 1,\n  'Monster High\u2122': 1,\n  'Monster Truck Driver & Racing': 1,\n  'MoodSpace': 1,\n  'Moovit: Bus Time & Train Time Live Info': 1,\n  'Mortgage by Zillow: Calculator & Rates': 1,\n  'Moto File Manager': 1,\n  'Motorola FM Radio': 1,\n  'MouseMingle': 1,\n  'Movies by Flixster, with Rotten Tomatoes': 1,\n  'Muscle Premium - Human Anatomy, Kinesiology, Bones': 1,\n  'Muzy - Share photos & collages': 1,\n  'My Class Schedule: Timetable': 1,\n  'My Diet Diary Calorie Counter': 1,\n  'My Dressing - Fashion closet': 1,\n  'My Little Pony Celebration': 1,\n  'My Little Pony: Harmony Quest': 1,\n  'My Photo Keyboard': 1,\n  'My Talking Angela': 1,\n  'My Talking Tom': 1,\n  'MyPlate Calorie Tracker': 1,\n  'NBC News': 1,\n  'NFL': 1,\n  'NOOK App for NOOK Devices': 1,\n  'NOOK: Read eBooks & Magazines': 1,\n  'NPR News': 1,\n  'NYTimes - Latest News': 1,\n  'Netflix': 1,\n  'Newegg Mobile': 1,\n  'Newsroom: News Worth Sharing': 1,\n  'Nextdoor - Local neighborhood news & classifieds': 1,\n  'Nick': 1,\n  'Nighty Night Circus': 1,\n  'Nike Training Club - Workouts & Fitness Plans': 1,\n  'Nike+ Run Club': 1,\n  'No Crop & Square for Instagram': 1,\n  'No.Draw - Colors by Number 2018': 1,\n  'Notepad & To do list': 1,\n  'Nova Launcher': 1,\n  'Nurse Grid': 1,\n  'O-Star': 1,\n  'OfficeSuite : Free Office + PDF Editor': 1,\n  'Offline Maps & Navigation': 1,\n  'OkCupid Dating': 1,\n  'Once - Quality Matches Every day': 1,\n  'Open Camera': 1,\n  'Opera Browser: Fast and Secure': 1,\n  'Opera Mini - fast web browser': 1,\n  'Orbitz - Hotels, Flights & Package Deals': 1,\n  'Overstock \u2013 Home Decor, Furniture Shopping': 1,\n  'Ovia Fertility Tracker & Ovulation Calculator': 1,\n  'Oxford Dictionary of English : Free': 1,\n  'PAC-MAN': 1,\n  'PBS KIDS Video': 1,\n  'PGA TOUR': 1,\n  'PJ Masks: Moonlight Heroes': 1,\n  'PMHNP-BC Pocket Prep': 1,\n  'POF Free Dating App': 1,\n  'PTA Content Master': 1,\n  'PUBG MOBILE': 1,\n  'Panera Bread': 1,\n  'Papumba Academy - Fun Learning For Kids': 1,\n  'Paramedic Protocol Provider': 1,\n  'PayPal': 1,\n  'Peak \u2013 Brain Games & Training': 1,\n  'Pedi STAT': 1,\n  'Penn State Health OnDemand': 1,\n  'Period Tracker': 1,\n  'Periscope - Live Video': 1,\n  'Phogy, 3D Camera': 1,\n  'Phone Tracker : Family Locator': 1,\n  'Photo Editor': 1,\n  'Photo Editor Pro': 1,\n  'Photo Editor Selfie Camera Filter & Mirror Image': 1,\n  'Photo Editor by Aviary': 1,\n  'Photo Editor-': 1,\n  'PicsArt Photo Studio: Collage Maker & Pic Editor': 1,\n  'Pinterest': 1,\n  'Pixel Art: Color by Number Game': 1,\n  'Planner Pro-Personal Organizer': 1,\n  'Plants vs. Zombies FREE': 1,\n  'Plants vs. Zombies\u2122 Heroes': 1,\n  'PlayKids - Educational cartoons and games for kids': 1,\n  'Pocket Yoga': 1,\n  'Podcast App: Free & Offline Podcasts by Player FM': 1,\n  'Pok\u00e9mon GO': 1,\n  'Polaris Office - Word, Docs, Sheets, Slide, PDF': 1,\n  'Poshmark - Buy & Sell Fashion': 1,\n  'Postmates Food Delivery: Order Eats & Alcohol': 1,\n  'Pou': 1,\n  'PowerDirector Video Editor App: 4K, Slow Mo & More': 1,\n  'Premier League - Official App': 1,\n  'Priceline Hotel Deals, Rental Cars & Flights': 1,\n  'Princess Coloring Book': 1,\n  'Puffin Web Browser': 1,\n  'QR Scanner & Barcode Scanner 2018': 1,\n  'Quick PDF Scanner + OCR FREE': 1,\n  'QuickBooks Accounting: Invoicing & Expenses': 1,\n  'QuickPic - Photo Gallery with Google Drive Support': 1,\n  'Quizlet: Learn Languages & Vocab with Flashcards': 1,\n  'Quora': 1,\n  'ROBLOX': 1,\n  'RT 516 VET': 1,\n  'RULES OF SURVIVAL': 1,\n  'Racing in Car 2': 1,\n  'Random Video Chat': 1,\n  'Random Video Chat App With Strangers': 1,\n  'Real Racing 3': 1,\n  'Realtor.com Real Estate: Homes for Sale and Rent': 1,\n  'Red Bull TV: Live Sports, Music & Entertainment': 1,\n  'Redfin Real Estate': 1,\n  'Relax Meditation: Sleep with Sleep Sounds': 1,\n  'Relax Melodies: Sleep Sounds': 1,\n  'RetailMeNot - Coupons, Deals & Discount Shopping': 1,\n  'Reuters News': 1,\n  'Rider': 1,\n  'Ringtone Maker': 1,\n  'Robinhood - Investing, No Fees': 1,\n  'Rosetta Stone: Learn to Speak & Read New Languages': 1,\n  'Ruler': 1,\n  'Run Sausage Run!': 1,\n  'Run with Map My Run': 1,\n  'Runkeeper - GPS Track Run Walk': 1,\n  'Runtastic Running App & Mile Tracker': 1,\n  'Runtastic Sleep Better: Sleep Cycle & Smart Alarm': 1,\n  'SHAREit - Transfer & Share': 1,\n  'SHOWTIME': 1,\n  'SKOUT - Meet, Chat, Go Live': 1,\n  'SONIC Drive-In': 1,\n  'STARZ': 1,\n  'SUBWAY\u00ae': 1,\n  'Sago Mini Babies': 1,\n  'Sago Mini Friends': 1,\n  'SayHi Chat, Meet New People': 1,\n  'Scarf Fashion Designer': 1,\n  'School of Dragons': 1,\n  'Score! Hero': 1,\n  'ScriptSave WellRx Rx Discounts': 1,\n  'Seven - 7 Minute Workout Training Challenge': 1,\n  'Shadow Fight 2': 1,\n  'Share Music & Transfer Files - Xender': 1,\n  'Shopkick: Free Gift Cards, Shop Rewards & Deals': 1,\n  'Shopkins World!': 1,\n  'Shopular: Coupons, Weekly Ads & Shopping Deals': 1,\n  'Showtime Anytime': 1,\n  'Shutterfly: Free Prints, Photo Books, Cards, Gifts': 1,\n  'SignEasy | Sign and Fill PDF and other Documents': 1,\n  'Simple - Better Banking': 1,\n  'Simple Habit Meditation': 1,\n  'Six Pack in 30 Days - Abs Workout': 1,\n  'Skype - free IM & video calls': 1,\n  'Skyscanner': 1,\n  'Slack': 1,\n  'Slickdeals: Coupons & Shopping': 1,\n  'Smart Launcher 5': 1,\n  'Snapchat': 1,\n  'SnipSnap Coupon App': 1,\n  'Sniper 3D Gun Shooter: Free Shooting Games - FPS': 1,\n  'Socratic - Math Answers & Homework Help': 1,\n  'Solitaire': 1,\n  'Sonic Dash': 1,\n  'Sounds for Toddlers FREE': 1,\n  'Southwest Airlines': 1,\n  'Spanish English Translator': 1,\n  'Starbucks': 1,\n  'Stocard - Rewards Cards Wallet': 1,\n  'Strawberry Shortcake BerryRush': 1,\n  'Strawberry Shortcake Ice Cream Island': 1,\n  'StyleSeat': 1,\n  'Subway Surfers': 1,\n  'Sudy \u2013 Meet Elite & Rich Single': 1,\n  'Super ABC! Learning games for kids! Preschool apps': 1,\n  'Super Hearing Super Ear Amplifier': 1,\n  'Super Jim Jump - pixel 3d': 1,\n  'Swamp Attack': 1,\n  'Sway Medical': 1,\n  'TED': 1,\n  'TO-FU Oh!SUSHI': 1,\n  'Tagged - Meet, Chat & Dating': 1,\n  'Talkatone: Free Texts, Calls & Phone Number': 1,\n  'Talking Ben the Dog': 1,\n  'Talking Tom Gold Run': 1,\n  'Talkray - Free Calls & Texts': 1,\n  'Tango - Live Video Broadcast': 1,\n  'Tapatalk - 100,000+ Forums': 1,\n  'Target - now with Cartwheel': 1,\n  'Tee and Mo Bath Time Free': 1,\n  'Teladoc Member': 1,\n  'Telegram': 1,\n  'Telegram X': 1,\n  'Telemundo Now': 1,\n  'Temple Run 2': 1,\n  'Text Free: WiFi Calling App': 1,\n  'Text free - Free Text + Call': 1,\n  'TextNow - free text + calls': 1,\n  'Textgram - write on photos': 1,\n  'The 5th Stand': 1,\n  'The CW': 1,\n  'The Coupons App': 1,\n  'The Emirates App': 1,\n  'The Game of Life': 1,\n  'The NBC App - Watch Live TV and Full Episodes': 1,\n  'The Sims\u2122 FreePlay': 1,\n  'The Wall Street Journal: Business & Market News': 1,\n  'Thomas & Friends: Race On!': 1,\n  'TickTick: To Do List with Reminder, Day Planner': 1,\n  'Tiny Scanner - PDF Scanner App': 1,\n  'Tiny Scanner Pro: PDF Doc Scan': 1,\n  'To-Do Calendar Planner': 1,\n  'Toca Kitchen 2': 1,\n  'Toca Life: City': 1,\n  'Todoist: To-do lists for task management & errands': 1,\n  'Toon Blast': 1,\n  'Topbuzz: Breaking News, Videos & Funny GIFs': 1,\n  'Toy Blast': 1,\n  'Traffic Racer': 1,\n  'Transenger \u2013 Ts Dating and Chat for Free': 1,\n  'Transit: Real-Time Transit App': 1,\n  'TripAdvisor Hotels Flights Restaurants Attractions': 1,\n  'Truecaller: Caller ID, SMS spam blocking & Dialer': 1,\n  'Trulia Real Estate & Rentals': 1,\n  'Trulia Rent Apartments & Homes': 1,\n  'Tubi TV - Free Movies & TV': 1,\n  'Tumblr': 1,\n  'Turbo FAST': 1,\n  'TurboScan: scan documents and receipts in PDF': 1,\n  'Twitch: Livestream Multiplayer Games & Esports': 1,\n  'Twitter': 1,\n  'UC Browser - Fast Download Private & Secure': 1,\n  'UC Browser Mini -Tiny Fast Private & Secure': 1,\n  'UFC': 1,\n  'UNICORN - Color By Number & Pixel Art Coloring': 1,\n  'US Open Tennis Championships 2018': 1,\n  'USA TODAY': 1,\n  'Uber': 1,\n  'Udacity - Lifelong Learning': 1,\n  'Udemy - Online Courses': 1,\n  'United Airlines': 1,\n  'Univision NOW - Live TV and On Demand': 1,\n  'VH1': 1,\n  'VLC for Android': 1,\n  'VPN Free - Betternet Hotspot VPN & Private Browser': 1,\n  'Vaniday - Beauty Booking App': 1,\n  'Vargo Anesthesia Mega App': 1,\n  'Viber Messenger': 1,\n  'Video Downloader': 1,\n  'Video Editor': 1,\n  'Video Player All Format': 1,\n  'Vigo Video': 1,\n  'Viki: Asian TV Dramas & Movies': 1,\n  'WPS Office - Word, Docs, PDF, Note, Slide & Sheet': 1,\n  'WWE': 1,\n  'Walk with Map My Walk': 1,\n  'Walmart': 1,\n  'Wanelo Shopping': 1,\n  'WatchESPN': 1,\n  'Wattpad \ud83d\udcd6 Free Books': 1,\n  'Waze - GPS, Maps, Traffic Alerts & Live Navigation': 1,\n  'We Heart It': 1,\n  'WeChat': 1,\n  'Weather by eltiempo.es': 1,\n  'Web Browser for Android': 1,\n  'Weight Loss Running by Verv': 1,\n  'Weight Loss Tracker - RecStyle': 1,\n  'Weight Watchers Mobile': 1,\n  'Wells Fargo Daily Change': 1,\n  'Wells Fargo Mobile': 1,\n  'Wendy\u2019s \u2013 Food and Offers': 1,\n  'WhatsApp Business': 1,\n  'WhatsApp Messenger': 1,\n  'Wheretoget: Shop in style': 1,\n  'Who': 1,\n  'Who Viewed My Facebook Profile - Stalkers Visitors': 1,\n  'Whoscall - Caller ID & Block': 1,\n  'Wish - Shopping Made Fun': 1,\n  'Word Search': 1,\n  'Wordscapes': 1,\n  'Workout Trainer: fitness coach': 1,\n  'Wunderlist: To-Do List & Tasks': 1,\n  'Xero Accounting Software': 1,\n  'Yahoo Fantasy Sports - #1 Rated Fantasy App': 1,\n  'Yahoo Mail \u2013 Stay Organized': 1,\n  'Yahoo Sports - scores, stats, news, & highlights': 1,\n  'Yandex Browser with Protect': 1,\n  'YouCam Makeup - Magic Selfie Makeovers': 1,\n  'YouCam Perfect - Selfie Photo Editor': 1,\n  'YouTube': 1,\n  'YouTube Gaming': 1,\n  'YouTube Kids': 1,\n  'YouTube Studio': 1,\n  'Youper - AI Therapy': 1,\n  'Z Camera - Photo Editor, Beauty Selfie, Collage': 1,\n  'ZALORA Fashion Shopping': 1,\n  'ZEDGE\u2122 Ringtones & Wallpapers': 1,\n  'ZOOM Cloud Meetings': 1,\n  'Zappos \u2013 Shoe shopping made simple': 1,\n  'Zara': 1,\n  'Zello PTT Walkie Talkie': 1,\n  'Zenefits': 1,\n  'Zillow: Find Houses for Sale & Apartments for Rent': 1,\n  'Zomato - Restaurant Finder and Food Delivery App': 1,\n  'Zombie Catchers': 1,\n  'Zombie Hunter King': 1,\n  'Zombie Tsunami': 1,\n  'Zoosk Dating App: Meet Singles': 1,\n  'ai.type Free Emoji Keyboard': 1,\n  'busuu: Learn Languages - Spanish, English & More': 1,\n  'eBay: Buy & Sell this Summer - Discover Deals Now!': 1,\n  'edX - Online Courses by Harvard, MIT & more': 1,\n  \"fred's Pharmacy\": 1,\n  'free video calls and chat': 1,\n  'iBP Blood Pressure': 1,\n  'iPair-Meet, Chat, Dating': 1,\n  'imo beta free calls and text': 1,\n  'imo free video calls and chat': 1,\n  'join.me - Simple Meetings': 1,\n  'letgo: Buy & Sell Used Stuff, Cars & Real Estate': 1,\n  'muzmatch: Muslim & Arab Singles, Marriage & Dating': 1,\n  'myAT&T': 1,\n  'mySugr: the blood sugar tracker made just for you': 1,\n  'ooVoo Video Calls, Messaging & Stories': 1,\n  'osmino Wi-Fi: free WiFi': 1,\n  'realestate.com.au - Buy, Rent & Sell Property': 1,\n  'slither.io': 1,\n  'stranger chat - anonymous chat': 1,\n  'textPlus: Free Text & Calls': 1,\n  'theScore: Live Sports Scores, News, Stats & Videos': 1,\n  'trivago: Hotels & Travel': 1,\n  'wetter.com - Weather and Radar': 1})"
                    }, 
                    "output_type": "execute_result"
                }
            ], 
            "source": "find_duplicate(android)"
        }, 
        {
            "execution_count": 79, 
            "cell_type": "code", 
            "metadata": {}, 
            "outputs": [
                {
                    "execution_count": 79, 
                    "metadata": {}, 
                    "data": {
                        "text/plain": "(0, 7197, {})"
                    }, 
                    "output_type": "execute_result"
                }
            ], 
            "source": "find_duplicate(ios)"
        }, 
        {
            "source": "There are 1181 duplicate values in android and no duplicate in iOS", 
            "cell_type": "markdown", 
            "metadata": {}
        }, 
        {
            "execution_count": 83, 
            "cell_type": "code", 
            "metadata": {}, 
            "outputs": [], 
            "source": "reviews_max = {}\nfor i in android:\n    name = i[0]\n    n_reviews = float(i[3])\n    if name in reviews_max:\n        if reviews_max[name]<n_reviews:\n            reviews_max[name] = n_reviews\n    elif name not in reviews_max:\n        reviews_max[name] = n_reviews\n\n"
        }, 
        {
            "execution_count": 84, 
            "cell_type": "code", 
            "metadata": {}, 
            "outputs": [
                {
                    "execution_count": 84, 
                    "metadata": {}, 
                    "data": {
                        "text/plain": "9659"
                    }, 
                    "output_type": "execute_result"
                }
            ], 
            "source": "len(reviews_max)"
        }, 
        {
            "execution_count": 86, 
            "cell_type": "code", 
            "metadata": {}, 
            "outputs": [], 
            "source": "android_clean = []\nalready_added = []\n\nfor i in android:\n    name = i[0]\n    n_reviews = float(i[3])\n    if (name not in already_added) and (n_reviews == reviews_max[name]):\n        android_clean.append(i)\n        already_added.append(name)"
        }, 
        {
            "execution_count": 88, 
            "cell_type": "code", 
            "metadata": {}, 
            "outputs": [
                {
                    "output_type": "stream", 
                    "name": "stdout", 
                    "text": "['Photo Editor & Candy Camera & Grid & ScrapBook', 'ART_AND_DESIGN', '4.1', '159', '19M', '10,000+', 'Free', '0', 'Everyone', 'Art & Design', 'January 7, 2018', '1.0.0', '4.0.3 and up']\n\n\n['U Launcher Lite \u2013 FREE Live Cool Themes, Hide Apps', 'ART_AND_DESIGN', '4.7', '87510', '8.7M', '5,000,000+', 'Free', '0', 'Everyone', 'Art & Design', 'August 1, 2018', '1.2.4', '4.0.3 and up']\n\n\n['Sketch - Draw & Paint', 'ART_AND_DESIGN', '4.5', '215644', '25M', '50,000,000+', 'Free', '0', 'Teen', 'Art & Design', 'June 8, 2018', 'Varies with device', '4.2 and up']\n\n\nNumber of rows: 9659\nNumber of columns: 13\n"
                }
            ], 
            "source": "explore_data(android_clean,0,3, True)"
        }, 
        {
            "execution_count": 122, 
            "cell_type": "code", 
            "metadata": {}, 
            "outputs": [], 
            "source": "\ndef english_text(text):\n    non_eng_char = 0\n    for i in text:\n        ascii_code = ord(i)\n        if ascii_code > 127:\n            non_eng_char += 1\n    if non_eng_char > 3:\n        return False\n    else:\n        return True"
        }, 
        {
            "execution_count": 123, 
            "cell_type": "code", 
            "metadata": {}, 
            "outputs": [
                {
                    "execution_count": 123, 
                    "metadata": {}, 
                    "data": {
                        "text/plain": "True"
                    }, 
                    "output_type": "execute_result"
                }
            ], 
            "source": "english_text('Docs To Go\u2122 Free Office Suite')"
        }, 
        {
            "execution_count": 124, 
            "cell_type": "code", 
            "metadata": {}, 
            "outputs": [
                {
                    "execution_count": 124, 
                    "metadata": {}, 
                    "data": {
                        "text/plain": "True"
                    }, 
                    "output_type": "execute_result"
                }
            ], 
            "source": "english_text('Instachat \ud83d\ude1c')"
        }, 
        {
            "execution_count": 125, 
            "cell_type": "code", 
            "metadata": {}, 
            "outputs": [
                {
                    "execution_count": 125, 
                    "metadata": {}, 
                    "data": {
                        "text/plain": "True"
                    }, 
                    "output_type": "execute_result"
                }
            ], 
            "source": "english_text('Instagram')"
        }, 
        {
            "execution_count": 126, 
            "cell_type": "code", 
            "metadata": {}, 
            "outputs": [
                {
                    "execution_count": 126, 
                    "metadata": {}, 
                    "data": {
                        "text/plain": "False"
                    }, 
                    "output_type": "execute_result"
                }
            ], 
            "source": "english_text('\u7231\u5947\u827aPPS -\u300a\u6b22\u4e50\u98822\u300b\u7535\u89c6\u5267\u70ed\u64ad')"
        }, 
        {
            "source": "## Let's select only english apps", 
            "cell_type": "markdown", 
            "metadata": {}
        }, 
        {
            "execution_count": 129, 
            "cell_type": "code", 
            "metadata": {}, 
            "outputs": [], 
            "source": "def english_app(records):\n    english_apps = []\n    for i in records:\n        name = i[0]\n        if (english_text(name) is True) and (name not in english_apps):\n            english_apps.append(i)\n    return english_apps\n            "
        }, 
        {
            "execution_count": 133, 
            "cell_type": "code", 
            "metadata": {}, 
            "outputs": [], 
            "source": "android_en = english_app(android_clean)\nios_en = english_app(ios)"
        }, 
        {
            "execution_count": 140, 
            "cell_type": "code", 
            "metadata": {}, 
            "outputs": [
                {
                    "output_type": "stream", 
                    "name": "stdout", 
                    "text": "['Photo Editor & Candy Camera & Grid & ScrapBook', 'ART_AND_DESIGN', '4.1', '159', '19M', '10,000+', 'Free', '0', 'Everyone', 'Art & Design', 'January 7, 2018', '1.0.0', '4.0.3 and up']\n\n\n['U Launcher Lite \u2013 FREE Live Cool Themes, Hide Apps', 'ART_AND_DESIGN', '4.7', '87510', '8.7M', '5,000,000+', 'Free', '0', 'Everyone', 'Art & Design', 'August 1, 2018', '1.2.4', '4.0.3 and up']\n\n\n['Sketch - Draw & Paint', 'ART_AND_DESIGN', '4.5', '215644', '25M', '50,000,000+', 'Free', '0', 'Teen', 'Art & Design', 'June 8, 2018', 'Varies with device', '4.2 and up']\n\n\nNumber of rows: 9614\nNumber of columns: 13\n"
                }
            ], 
            "source": "explore_data(android_en,0,3,True)"
        }, 
        {
            "execution_count": 149, 
            "cell_type": "code", 
            "metadata": {}, 
            "outputs": [
                {
                    "output_type": "stream", 
                    "name": "stdout", 
                    "text": "['1', '281656475', 'PAC-MAN Premium', '100788224', 'USD', '3.99', '21292', '26', '4', '4.5', '6.3.5', '4+', 'Games', '38', '5', '10', '1']\n\n\n['2', '281796108', 'Evernote - stay organized', '158578688', 'USD', '0', '161065', '26', '4', '3.5', '8.2.2', '4+', 'Productivity', '37', '5', '23', '1']\n\n\n['3', '281940292', 'WeatherBug - Local Weather, Radar, Maps, Alerts', '100524032', 'USD', '0', '188583', '2822', '3.5', '4.5', '5.0.0', '4+', 'Weather', '37', '5', '3', '1']\n\n\n['4', '282614216', 'eBay: Best App to Buy, Sell, Save! Online Shopping', '128512000', 'USD', '0', '262241', '649', '4', '4.5', '5.10.0', '12+', 'Shopping', '37', '5', '9', '1']\n\n\n['5', '282935706', 'Bible', '92774400', 'USD', '0', '985920', '5320', '4.5', '5', '7.5.1', '4+', 'Reference', '37', '5', '45', '1']\n\n\nNumber of rows: 7197\nNumber of columns: 17\n"
                }
            ], 
            "source": "explore_data(ios_en,0,5,True)"
        }, 
        {
            "execution_count": 151, 
            "cell_type": "code", 
            "metadata": {}, 
            "outputs": [
                {
                    "output_type": "stream", 
                    "name": "stdout", 
                    "text": "8864\n4056\n"
                }
            ], 
            "source": "android_final = []\nios_final = []\n\nfor app in android_en:\n    price = app[7]\n    if price == '0':\n        android_final.append(app)\n        \nfor app in ios_en:\n    price = app[5]\n    if price == '0':\n        ios_final.append(app)\n        \nprint(len(android_final))\nprint(len(ios_final))"
        }, 
        {
            "execution_count": 153, 
            "cell_type": "code", 
            "metadata": {}, 
            "outputs": [], 
            "source": "def freq_table(dataset, index):\n    table = {}\n    total = 0\n    \n    for row in dataset:\n        total += 1\n        value = row[index]\n        if value in table:\n            table[value] += 1\n        else:\n            table[value] = 1\n    \n    table_percentages = {}\n    for key in table:\n        percentage = (table[key] / total) * 100\n        table_percentages[key] = percentage \n    \n    return table_percentages\n\n\ndef display_table(dataset, index):\n    table = freq_table(dataset, index)\n    table_display = []\n    for key in table:\n        key_val_as_tuple = (table[key], key)\n        table_display.append(key_val_as_tuple)\n        \n    table_sorted = sorted(table_display, reverse = True)\n    for entry in table_sorted:\n        print(entry[1], ':', entry[0])"
        }, 
        {
            "execution_count": 154, 
            "cell_type": "code", 
            "metadata": {}, 
            "outputs": [
                {
                    "output_type": "stream", 
                    "name": "stdout", 
                    "text": "Games : 55.64595660749507\nEntertainment : 8.234714003944774\nPhoto & Video : 4.117357001972387\nSocial Networking : 3.5256410256410255\nEducation : 3.2544378698224854\nShopping : 2.983234714003945\nUtilities : 2.687376725838264\nLifestyle : 2.3175542406311638\nFinance : 2.0710059171597637\nSports : 1.947731755424063\nHealth & Fitness : 1.8737672583826428\nMusic : 1.6518737672583828\nBook : 1.6272189349112427\nProductivity : 1.5285996055226825\nNews : 1.4299802761341223\nTravel : 1.3806706114398422\nFood & Drink : 1.0601577909270217\nWeather : 0.7642998027613412\nReference : 0.4930966469428008\nNavigation : 0.4930966469428008\nBusiness : 0.4930966469428008\nCatalogs : 0.22189349112426035\nMedical : 0.19723865877712032\n"
                }
            ], 
            "source": "display_table(ios_final, -5)\n"
        }, 
        {
            "execution_count": 155, 
            "cell_type": "code", 
            "metadata": {}, 
            "outputs": [
                {
                    "output_type": "stream", 
                    "name": "stdout", 
                    "text": "FAMILY : 18.907942238267147\nGAME : 9.724729241877256\nTOOLS : 8.461191335740072\nBUSINESS : 4.591606498194946\nLIFESTYLE : 3.9034296028880866\nPRODUCTIVITY : 3.892148014440433\nFINANCE : 3.7003610108303246\nMEDICAL : 3.531137184115524\nSPORTS : 3.395758122743682\nPERSONALIZATION : 3.3167870036101084\nCOMMUNICATION : 3.2378158844765346\nHEALTH_AND_FITNESS : 3.0798736462093865\nPHOTOGRAPHY : 2.944494584837545\nNEWS_AND_MAGAZINES : 2.7978339350180503\nSOCIAL : 2.6624548736462095\nTRAVEL_AND_LOCAL : 2.33528880866426\nSHOPPING : 2.2450361010830324\nBOOKS_AND_REFERENCE : 2.1435018050541514\nDATING : 1.861462093862816\nVIDEO_PLAYERS : 1.7937725631768955\nMAPS_AND_NAVIGATION : 1.3989169675090252\nFOOD_AND_DRINK : 1.2409747292418771\nEDUCATION : 1.1620036101083033\nENTERTAINMENT : 0.9589350180505415\nLIBRARIES_AND_DEMO : 0.9363718411552346\nAUTO_AND_VEHICLES : 0.9250902527075812\nHOUSE_AND_HOME : 0.8235559566787004\nWEATHER : 0.8009927797833934\nEVENTS : 0.7107400722021661\nPARENTING : 0.6543321299638989\nART_AND_DESIGN : 0.6430505415162455\nCOMICS : 0.6204873646209386\nBEAUTY : 0.5979241877256317\n"
                }
            ], 
            "source": "display_table(android_final, 1) # Category\n"
        }, 
        {
            "execution_count": 156, 
            "cell_type": "code", 
            "metadata": {}, 
            "outputs": [
                {
                    "output_type": "stream", 
                    "name": "stdout", 
                    "text": "Tools : 8.449909747292418\nEntertainment : 6.069494584837545\nEducation : 5.347472924187725\nBusiness : 4.591606498194946\nProductivity : 3.892148014440433\nLifestyle : 3.892148014440433\nFinance : 3.7003610108303246\nMedical : 3.531137184115524\nSports : 3.463447653429603\nPersonalization : 3.3167870036101084\nCommunication : 3.2378158844765346\nAction : 3.1024368231046933\nHealth & Fitness : 3.0798736462093865\nPhotography : 2.944494584837545\nNews & Magazines : 2.7978339350180503\nSocial : 2.6624548736462095\nTravel & Local : 2.3240072202166067\nShopping : 2.2450361010830324\nBooks & Reference : 2.1435018050541514\nSimulation : 2.0419675090252705\nDating : 1.861462093862816\nArcade : 1.8501805054151623\nVideo Players & Editors : 1.7712093862815883\nCasual : 1.7599277978339352\nMaps & Navigation : 1.3989169675090252\nFood & Drink : 1.2409747292418771\nPuzzle : 1.128158844765343\nRacing : 0.9927797833935018\nRole Playing : 0.9363718411552346\nLibraries & Demo : 0.9363718411552346\nAuto & Vehicles : 0.9250902527075812\nStrategy : 0.9138086642599278\nHouse & Home : 0.8235559566787004\nWeather : 0.8009927797833934\nEvents : 0.7107400722021661\nAdventure : 0.6768953068592057\nComics : 0.6092057761732852\nBeauty : 0.5979241877256317\nArt & Design : 0.5979241877256317\nParenting : 0.4963898916967509\nCard : 0.45126353790613716\nCasino : 0.42870036101083037\nTrivia : 0.41741877256317694\nEducational;Education : 0.39485559566787\nBoard : 0.3835740072202166\nEducational : 0.3722924187725632\nEducation;Education : 0.33844765342960287\nWord : 0.2594765342960289\nCasual;Pretend Play : 0.236913357400722\nMusic : 0.2030685920577617\nRacing;Action & Adventure : 0.16922382671480143\nPuzzle;Brain Games : 0.16922382671480143\nEntertainment;Music & Video : 0.16922382671480143\nCasual;Brain Games : 0.13537906137184114\nCasual;Action & Adventure : 0.13537906137184114\nArcade;Action & Adventure : 0.12409747292418773\nAction;Action & Adventure : 0.10153429602888085\nEducational;Pretend Play : 0.09025270758122744\nSimulation;Action & Adventure : 0.078971119133574\nParenting;Education : 0.078971119133574\nEntertainment;Brain Games : 0.078971119133574\nBoard;Brain Games : 0.078971119133574\nParenting;Music & Video : 0.06768953068592057\nEducational;Brain Games : 0.06768953068592057\nCasual;Creativity : 0.06768953068592057\nArt & Design;Creativity : 0.06768953068592057\nEducation;Pretend Play : 0.056407942238267145\nRole Playing;Pretend Play : 0.04512635379061372\nEducation;Creativity : 0.04512635379061372\nRole Playing;Action & Adventure : 0.033844765342960284\nPuzzle;Action & Adventure : 0.033844765342960284\nEntertainment;Creativity : 0.033844765342960284\nEntertainment;Action & Adventure : 0.033844765342960284\nEducational;Creativity : 0.033844765342960284\nEducational;Action & Adventure : 0.033844765342960284\nEducation;Music & Video : 0.033844765342960284\nEducation;Brain Games : 0.033844765342960284\nEducation;Action & Adventure : 0.033844765342960284\nAdventure;Action & Adventure : 0.033844765342960284\nVideo Players & Editors;Music & Video : 0.02256317689530686\nSports;Action & Adventure : 0.02256317689530686\nSimulation;Pretend Play : 0.02256317689530686\nPuzzle;Creativity : 0.02256317689530686\nMusic;Music & Video : 0.02256317689530686\nEntertainment;Pretend Play : 0.02256317689530686\nCasual;Education : 0.02256317689530686\nBoard;Action & Adventure : 0.02256317689530686\nVideo Players & Editors;Creativity : 0.01128158844765343\nTrivia;Education : 0.01128158844765343\nTravel & Local;Action & Adventure : 0.01128158844765343\nTools;Education : 0.01128158844765343\nStrategy;Education : 0.01128158844765343\nStrategy;Creativity : 0.01128158844765343\nStrategy;Action & Adventure : 0.01128158844765343\nSimulation;Education : 0.01128158844765343\nRole Playing;Brain Games : 0.01128158844765343\nRacing;Pretend Play : 0.01128158844765343\nPuzzle;Education : 0.01128158844765343\nParenting;Brain Games : 0.01128158844765343\nMusic & Audio;Music & Video : 0.01128158844765343\nLifestyle;Pretend Play : 0.01128158844765343\nLifestyle;Education : 0.01128158844765343\nHealth & Fitness;Education : 0.01128158844765343\nHealth & Fitness;Action & Adventure : 0.01128158844765343\nEntertainment;Education : 0.01128158844765343\nCommunication;Creativity : 0.01128158844765343\nComics;Creativity : 0.01128158844765343\nCasual;Music & Video : 0.01128158844765343\nCard;Action & Adventure : 0.01128158844765343\nBooks & Reference;Education : 0.01128158844765343\nArt & Design;Pretend Play : 0.01128158844765343\nArt & Design;Action & Adventure : 0.01128158844765343\nArcade;Pretend Play : 0.01128158844765343\nAdventure;Education : 0.01128158844765343\n"
                }
            ], 
            "source": "display_table(android_final, -4)\n"
        }, 
        {
            "execution_count": 157, 
            "cell_type": "code", 
            "metadata": {}, 
            "outputs": [
                {
                    "output_type": "stream", 
                    "name": "stdout", 
                    "text": "Weather : 0.0\nEducation : 0.0\nEntertainment : 0.0\nHealth & Fitness : 0.0\nSports : 0.0\nFinance : 0.0\nTravel : 0.0\nGames : 0.0\nPhoto & Video : 0.0\nBook : 0.0\nUtilities : 0.0\nBusiness : 0.0\nSocial Networking : 0.0\nMedical : 0.0\nFood & Drink : 0.0\nShopping : 0.0\nCatalogs : 0.0\nProductivity : 0.0\nNavigation : 0.0\nNews : 0.0\nLifestyle : 0.0\nMusic : 0.0\nReference : 0.0\n"
                }
            ], 
            "source": "genres_ios = freq_table(ios_final, -5)\n\nfor genre in genres_ios:\n    total = 0\n    len_genre = 0\n    for app in ios_final:\n        genre_app = app[-5]\n        if genre_app == genre:            \n            n_ratings = float(app[5])\n            total += n_ratings\n            len_genre += 1\n    avg_n_ratings = total / len_genre\n    print(genre, ':', avg_n_ratings)"
        }, 
        {
            "execution_count": 158, 
            "cell_type": "code", 
            "metadata": {}, 
            "outputs": [
                {
                    "output_type": "stream", 
                    "name": "stdout", 
                    "text": "323229106 : 0\n329541503 : 0\n344176018 : 0\n377321278 : 0\n413487517 : 0\n447024088 : 0\n452186370 : 0\n461703208 : 0\n463431091 : 0\n504677517 : 0\n528532387 : 0\n553771681 : 0\n562136065 : 0\n585027354 : 0\n820004378 : 0\n982887800 : 0\n1025396583 : 0\n1074321709 : 0\n1075817264 : 0\n1130847808 : 0\n"
                }
            ], 
            "source": "for app in ios_final:\n    if app[-5] == 'Navigation':\n        print(app[1], ':', app[5]) # print name and number of ratings"
        }, 
        {
            "execution_count": 159, 
            "cell_type": "code", 
            "metadata": {}, 
            "outputs": [
                {
                    "output_type": "stream", 
                    "name": "stdout", 
                    "text": "282935706 : 0\n308750436 : 0\n364740856 : 0\n388389451 : 0\n399452287 : 0\n414706506 : 0\n475772902 : 0\n640199958 : 0\n671889349 : 0\n980134624 : 0\n1003837100 : 0\n1096464625 : 0\n1130829481 : 0\n1132715891 : 0\n1133678984 : 0\n1133706938 : 0\n1135575003 : 0\n1137683736 : 0\n1156856246 : 0\n1171021623 : 0\n"
                }
            ], 
            "source": "for app in ios_final:\n    if app[-5] == 'Reference':\n        print(app[1], ':', app[5])"
        }, 
        {
            "execution_count": 160, 
            "cell_type": "code", 
            "metadata": {}, 
            "outputs": [
                {
                    "output_type": "stream", 
                    "name": "stdout", 
                    "text": "1,000,000+ : 15.726534296028879\n100,000+ : 11.552346570397113\n10,000,000+ : 10.548285198555957\n10,000+ : 10.198555956678701\n1,000+ : 8.393501805054152\n100+ : 6.915613718411552\n5,000,000+ : 6.825361010830325\n500,000+ : 5.561823104693141\n50,000+ : 4.7721119133574\n5,000+ : 4.512635379061372\n10+ : 3.5424187725631766\n500+ : 3.2490974729241873\n50,000,000+ : 2.3014440433213\n100,000,000+ : 2.1322202166064983\n50+ : 1.917870036101083\n5+ : 0.78971119133574\n1+ : 0.5076714801444043\n500,000,000+ : 0.2707581227436823\n1,000,000,000+ : 0.22563176895306858\n0+ : 0.04512635379061372\n0 : 0.01128158844765343\n"
                }
            ], 
            "source": "display_table(android_final, 5) # the Installs columns\n"
        }, 
        {
            "execution_count": 161, 
            "cell_type": "code", 
            "metadata": {}, 
            "outputs": [
                {
                    "output_type": "stream", 
                    "name": "stdout", 
                    "text": "LIBRARIES_AND_DEMO : 638503.734939759\nSPORTS : 3638640.1428571427\nTOOLS : 10801391.298666667\nHOUSE_AND_HOME : 1331540.5616438356\nTRAVEL_AND_LOCAL : 13984077.710144928\nSOCIAL : 23253652.127118643\nFOOD_AND_DRINK : 1924897.7363636363\nSHOPPING : 7036877.311557789\nAUTO_AND_VEHICLES : 647317.8170731707\nBUSINESS : 1712290.1474201474\nBEAUTY : 513151.88679245283\nCOMMUNICATION : 38456119.167247385\nDATING : 854028.8303030303\nPARENTING : 542603.6206896552\nEVENTS : 253542.22222222222\nWEATHER : 5074486.197183099\nART_AND_DESIGN : 1986335.0877192982\nPRODUCTIVITY : 16787331.344927534\nNEWS_AND_MAGAZINES : 9549178.467741935\nGAME : 15588015.603248259\nPHOTOGRAPHY : 17840110.40229885\nPERSONALIZATION : 5201482.6122448975\nEDUCATION : 1833495.145631068\nVIDEO_PLAYERS : 24727872.452830188\nENTERTAINMENT : 11640705.88235294\nBOOKS_AND_REFERENCE : 8767811.894736841\nHEALTH_AND_FITNESS : 4188821.9853479853\nLIFESTYLE : 1437816.2687861272\nFAMILY : 3695641.8198090694\nMEDICAL : 120550.61980830671\nFINANCE : 1387692.475609756\nCOMICS : 817657.2727272727\nMAPS_AND_NAVIGATION : 4056941.7741935486\n"
                }
            ], 
            "source": "categories_android = freq_table(android_final, 1)\n\nfor category in categories_android:\n    total = 0\n    len_category = 0\n    for app in android_final:\n        category_app = app[1]\n        if category_app == category:            \n            n_installs = app[5]\n            n_installs = n_installs.replace(',', '')\n            n_installs = n_installs.replace('+', '')\n            total += float(n_installs)\n            len_category += 1\n    avg_n_installs = total / len_category\n    print(category, ':', avg_n_installs)"
        }, 
        {
            "execution_count": 162, 
            "cell_type": "code", 
            "metadata": {}, 
            "outputs": [
                {
                    "output_type": "stream", 
                    "name": "stdout", 
                    "text": "WhatsApp Messenger : 1,000,000,000+\nimo beta free calls and text : 100,000,000+\nAndroid Messages : 100,000,000+\nGoogle Duo - High Quality Video Calls : 500,000,000+\nMessenger \u2013 Text and Video Chat for Free : 1,000,000,000+\nimo free video calls and chat : 500,000,000+\nSkype - free IM & video calls : 1,000,000,000+\nWho : 100,000,000+\nGO SMS Pro - Messenger, Free Themes, Emoji : 100,000,000+\nLINE: Free Calls & Messages : 500,000,000+\nGoogle Chrome: Fast & Secure : 1,000,000,000+\nFirefox Browser fast & private : 100,000,000+\nUC Browser - Fast Download Private & Secure : 500,000,000+\nGmail : 1,000,000,000+\nHangouts : 1,000,000,000+\nMessenger Lite: Free Calls & Messages : 100,000,000+\nKik : 100,000,000+\nKakaoTalk: Free Calls & Text : 100,000,000+\nOpera Mini - fast web browser : 100,000,000+\nOpera Browser: Fast and Secure : 100,000,000+\nTelegram : 100,000,000+\nTruecaller: Caller ID, SMS spam blocking & Dialer : 100,000,000+\nUC Browser Mini -Tiny Fast Private & Secure : 100,000,000+\nViber Messenger : 500,000,000+\nWeChat : 100,000,000+\nYahoo Mail \u2013 Stay Organized : 100,000,000+\nBBM - Free Calls & Messages : 100,000,000+\n"
                }
            ], 
            "source": "for app in android_final:\n    if app[1] == 'COMMUNICATION' and (app[5] == '1,000,000,000+'\n                                      or app[5] == '500,000,000+'\n                                      or app[5] == '100,000,000+'):\n        print(app[0], ':', app[5])"
        }, 
        {
            "execution_count": 163, 
            "cell_type": "code", 
            "metadata": {}, 
            "outputs": [
                {
                    "execution_count": 163, 
                    "metadata": {}, 
                    "data": {
                        "text/plain": "3603485.3884615386"
                    }, 
                    "output_type": "execute_result"
                }
            ], 
            "source": "under_100_m = []\n\nfor app in android_final:\n    n_installs = app[5]\n    n_installs = n_installs.replace(',', '')\n    n_installs = n_installs.replace('+', '')\n    if (app[1] == 'COMMUNICATION') and (float(n_installs) < 100000000):\n        under_100_m.append(float(n_installs))\n        \nsum(under_100_m) / len(under_100_m)"
        }, 
        {
            "execution_count": 164, 
            "cell_type": "code", 
            "metadata": {}, 
            "outputs": [
                {
                    "output_type": "stream", 
                    "name": "stdout", 
                    "text": "E-Book Read - Read Book for free : 50,000+\nDownload free book with green book : 100,000+\nWikipedia : 10,000,000+\nCool Reader : 10,000,000+\nFree Panda Radio Music : 100,000+\nBook store : 1,000,000+\nFBReader: Favorite Book Reader : 10,000,000+\nEnglish Grammar Complete Handbook : 500,000+\nFree Books - Spirit Fanfiction and Stories : 1,000,000+\nGoogle Play Books : 1,000,000,000+\nAlReader -any text book reader : 5,000,000+\nOffline English Dictionary : 100,000+\nOffline: English to Tagalog Dictionary : 500,000+\nFamilySearch Tree : 1,000,000+\nCloud of Books : 1,000,000+\nRecipes of Prophetic Medicine for free : 500,000+\nReadEra \u2013 free ebook reader : 1,000,000+\nAnonymous caller detection : 10,000+\nEbook Reader : 5,000,000+\nLitnet - E-books : 100,000+\nRead books online : 5,000,000+\nEnglish to Urdu Dictionary : 500,000+\neBoox: book reader fb2 epub zip : 1,000,000+\nEnglish Persian Dictionary : 500,000+\nFlybook : 500,000+\nAll Maths Formulas : 1,000,000+\nAncestry : 5,000,000+\nHTC Help : 10,000,000+\nEnglish translation from Bengali : 100,000+\nPdf Book Download - Read Pdf Book : 100,000+\nFree Book Reader : 100,000+\neBoox new: Reader for fb2 epub zip books : 50,000+\nOnly 30 days in English, the guideline is guaranteed : 500,000+\nMoon+ Reader : 10,000,000+\nSH-02J Owner's Manual (Android 8.0) : 50,000+\nEnglish-Myanmar Dictionary : 1,000,000+\nGolden Dictionary (EN-AR) : 1,000,000+\nAll Language Translator Free : 1,000,000+\nAzpen eReader : 500,000+\nURBANO V 02 instruction manual : 100,000+\nBible : 100,000,000+\nC Programs and Reference : 50,000+\nC Offline Tutorial : 1,000+\nC Programs Handbook : 50,000+\nAmazon Kindle : 100,000,000+\nAab e Hayat Full Novel : 100,000+\nAldiko Book Reader : 10,000,000+\nGoogle I/O 2018 : 500,000+\nR Language Reference Guide : 10,000+\nLearn R Programming Full : 5,000+\nR Programing Offline Tutorial : 1,000+\nGuide for R Programming : 5+\nLearn R Programming : 10+\nR Quick Reference Big Data : 1,000+\nV Made : 100,000+\nWattpad \ud83d\udcd6 Free Books : 100,000,000+\nDictionary - WordWeb : 5,000,000+\nGuide (for X-MEN) : 100,000+\nAC Air condition Troubleshoot,Repair,Maintenance : 5,000+\nAE Bulletins : 1,000+\nAe Allah na Dai (Rasa) : 10,000+\n50000 Free eBooks & Free AudioBooks : 5,000,000+\nAg PhD Field Guide : 10,000+\nAg PhD Deficiencies : 10,000+\nAg PhD Planting Population Calculator : 1,000+\nAg PhD Soybean Diseases : 1,000+\nFertilizer Removal By Crop : 50,000+\nA-J Media Vault : 50+\nAl-Quran (Free) : 10,000,000+\nAl Quran (Tafsir & by Word) : 500,000+\nAl Quran Indonesia : 10,000,000+\nAl'Quran Bahasa Indonesia : 10,000,000+\nAl Quran Al karim : 1,000,000+\nAl-Muhaffiz : 50,000+\nAl Quran : EAlim - Translations & MP3 Offline : 5,000,000+\nAl-Quran 30 Juz free copies : 500,000+\nKoran Read &MP3 30 Juz Offline : 1,000,000+\nHafizi Quran 15 lines per page : 1,000,000+\nQuran for Android : 10,000,000+\nSurah Al-Waqiah : 100,000+\nHisnul Al Muslim - Hisn Invocations & Adhkaar : 100,000+\nSatellite AR : 1,000,000+\nAudiobooks from Audible : 100,000,000+\nKinot & Eichah for Tisha B'Av : 10,000+\nAW Tozer Devotionals - Daily : 5,000+\nTozer Devotional -Series 1 : 1,000+\nThe Pursuit of God : 1,000+\nAY Sing : 5,000+\nAy Hasnain k Nana Milad Naat : 10,000+\nAy Mohabbat Teri Khatir Novel : 10,000+\nArizona Statutes, ARS (AZ Law) : 1,000+\nOxford A-Z of English Usage : 1,000,000+\nBD Fishpedia : 1,000+\nBD All Sim Offer : 10,000+\nYouboox - Livres, BD et magazines : 500,000+\nB&H Kids AR : 10,000+\nB y H Ni\u00f1os ES : 5,000+\nDictionary.com: Find Definitions for English Words : 10,000,000+\nEnglish Dictionary - Offline : 10,000,000+\nBible KJV : 5,000,000+\nBorneo Bible, BM Bible : 10,000+\nMOD Black for BM : 100+\nBM Box : 1,000+\nAnime Mod for BM : 100+\nNOOK: Read eBooks & Magazines : 10,000,000+\nNOOK Audiobooks : 500,000+\nNOOK App for NOOK Devices : 500,000+\nBrowsery by Barnes & Noble : 5,000+\nbp e-store : 1,000+\nBrilliant Quotes: Life, Love, Family & Motivation : 1,000,000+\nBR Ambedkar Biography & Quotes : 10,000+\nBU Alsace : 100+\nCatholic La Bu Zo Kam : 500+\nKhrifa Hla Bu (Solfa) : 10+\nKristian Hla Bu : 10,000+\nSA HLA BU : 1,000+\nLearn SAP BW : 500+\nLearn SAP BW on HANA : 500+\nCA Laws 2018 (California Laws and Codes) : 5,000+\nBootable Methods(USB-CD-DVD) : 10,000+\ncloudLibrary : 100,000+\nSDA Collegiate Quarterly : 500+\nSabbath School : 100,000+\nCypress College Library : 100+\nStats Royale for Clash Royale : 1,000,000+\nGATE 21 years CS Papers(2011-2018 Solved) : 50+\nLearn CT Scan Of Head : 5,000+\nEasy Cv maker 2018 : 10,000+\nHow to Write CV : 100,000+\nCW Nuclear : 1,000+\nCY Spray nozzle : 10+\nBibleRead En Cy Zh Yue : 5+\nCZ-Help : 5+\nModlitebn\u00ed kn\u00ed\u017eka CZ : 500+\nGuide for DB Xenoverse : 10,000+\nGuide for DB Xenoverse 2 : 10,000+\nGuide for IMS DB : 10+\nDC HSEMA : 5,000+\nDC Public Library : 1,000+\nPainting Lulu DC Super Friends : 1,000+\nDictionary : 10,000,000+\nFix Error Google Playstore : 1,000+\nD. H. Lawrence Poems FREE : 1,000+\nBilingual Dictionary Audio App : 5,000+\nDM Screen : 10,000+\nwikiHow: how to do anything : 1,000,000+\nDr. Doug's Tips : 1,000+\nBible du Semeur-BDS (French) : 50,000+\nLa citadelle du musulman : 50,000+\nDV 2019 Entry Guide : 10,000+\nDV 2019 - EDV Photo & Form : 50,000+\nDV 2018 Winners Guide : 1,000+\nEB Annual Meetings : 1,000+\nEC - AP & Telangana : 5,000+\nTN Patta Citta & EC : 10,000+\nAP Stamps and Registration : 10,000+\nCompactiMa EC pH Calibration : 100+\nEGW Writings 2 : 100,000+\nEGW Writings : 1,000,000+\nBible with EGW Comments : 100,000+\nMy Little Pony AR Guide : 1,000,000+\nSDA Sabbath School Quarterly : 500,000+\nDuaa Ek Ibaadat : 5,000+\nSpanish English Translator : 10,000,000+\nDictionary - Merriam-Webster : 10,000,000+\nJW Library : 10,000,000+\nOxford Dictionary of English : Free : 10,000,000+\nEnglish Hindi Dictionary : 10,000,000+\nEnglish to Hindi Dictionary : 5,000,000+\nEP Research Service : 1,000+\nHymnes et Louanges : 100,000+\nEU Charter : 1,000+\nEU Data Protection : 1,000+\nEU IP Codes : 100+\nEW PDF : 5+\nBakaReader EX : 100,000+\nEZ Quran : 50,000+\nFA Part 1 & 2 Past Papers Solved Free \u2013 Offline : 5,000+\nLa Fe de Jesus : 1,000+\nLa Fe de Jes\u00fas : 500+\nLe Fe de Jesus : 500+\nFlorida - Pocket Brainbook : 1,000+\nFlorida Statutes (FL Code) : 1,000+\nEnglish To Shona Dictionary : 10,000+\nGreek Bible FP (Audio) : 1,000+\nGolden Dictionary (FR-AR) : 500,000+\nFanfic-FR : 5,000+\nBulgarian French Dictionary Fr : 10,000+\nChemin (fr) : 1,000+\nThe SCP Foundation DB fr nn5n : 1,000+\n"
                }
            ], 
            "source": "for app in android_final:\n    if app[1] == 'BOOKS_AND_REFERENCE':\n        print(app[0], ':', app[5])"
        }, 
        {
            "execution_count": 165, 
            "cell_type": "code", 
            "metadata": {}, 
            "outputs": [
                {
                    "output_type": "stream", 
                    "name": "stdout", 
                    "text": "Google Play Books : 1,000,000,000+\nBible : 100,000,000+\nAmazon Kindle : 100,000,000+\nWattpad \ud83d\udcd6 Free Books : 100,000,000+\nAudiobooks from Audible : 100,000,000+\n"
                }
            ], 
            "source": "for app in android_final:\n    if app[1] == 'BOOKS_AND_REFERENCE' and (app[5] == '1,000,000,000+'\n                                            or app[5] == '500,000,000+'\n                                            or app[5] == '100,000,000+'):\n        print(app[0], ':', app[5])"
        }, 
        {
            "execution_count": 166, 
            "cell_type": "code", 
            "metadata": {}, 
            "outputs": [
                {
                    "output_type": "stream", 
                    "name": "stdout", 
                    "text": "Wikipedia : 10,000,000+\nCool Reader : 10,000,000+\nBook store : 1,000,000+\nFBReader: Favorite Book Reader : 10,000,000+\nFree Books - Spirit Fanfiction and Stories : 1,000,000+\nAlReader -any text book reader : 5,000,000+\nFamilySearch Tree : 1,000,000+\nCloud of Books : 1,000,000+\nReadEra \u2013 free ebook reader : 1,000,000+\nEbook Reader : 5,000,000+\nRead books online : 5,000,000+\neBoox: book reader fb2 epub zip : 1,000,000+\nAll Maths Formulas : 1,000,000+\nAncestry : 5,000,000+\nHTC Help : 10,000,000+\nMoon+ Reader : 10,000,000+\nEnglish-Myanmar Dictionary : 1,000,000+\nGolden Dictionary (EN-AR) : 1,000,000+\nAll Language Translator Free : 1,000,000+\nAldiko Book Reader : 10,000,000+\nDictionary - WordWeb : 5,000,000+\n50000 Free eBooks & Free AudioBooks : 5,000,000+\nAl-Quran (Free) : 10,000,000+\nAl Quran Indonesia : 10,000,000+\nAl'Quran Bahasa Indonesia : 10,000,000+\nAl Quran Al karim : 1,000,000+\nAl Quran : EAlim - Translations & MP3 Offline : 5,000,000+\nKoran Read &MP3 30 Juz Offline : 1,000,000+\nHafizi Quran 15 lines per page : 1,000,000+\nQuran for Android : 10,000,000+\nSatellite AR : 1,000,000+\nOxford A-Z of English Usage : 1,000,000+\nDictionary.com: Find Definitions for English Words : 10,000,000+\nEnglish Dictionary - Offline : 10,000,000+\nBible KJV : 5,000,000+\nNOOK: Read eBooks & Magazines : 10,000,000+\nBrilliant Quotes: Life, Love, Family & Motivation : 1,000,000+\nStats Royale for Clash Royale : 1,000,000+\nDictionary : 10,000,000+\nwikiHow: how to do anything : 1,000,000+\nEGW Writings : 1,000,000+\nMy Little Pony AR Guide : 1,000,000+\nSpanish English Translator : 10,000,000+\nDictionary - Merriam-Webster : 10,000,000+\nJW Library : 10,000,000+\nOxford Dictionary of English : Free : 10,000,000+\nEnglish Hindi Dictionary : 10,000,000+\nEnglish to Hindi Dictionary : 5,000,000+\n"
                }
            ], 
            "source": "for app in android_final:\n    if app[1] == 'BOOKS_AND_REFERENCE' and (app[5] == '1,000,000+'\n                                            or app[5] == '5,000,000+'\n                                            or app[5] == '10,000,000+'\n                                            or app[5] == '50,000,000+'):\n        print(app[0], ':', app[5])\n"
        }, 
        {
            "execution_count": null, 
            "cell_type": "code", 
            "metadata": {}, 
            "outputs": [], 
            "source": ""
        }
    ], 
    "metadata": {
        "kernelspec": {
            "display_name": "Python 3.5", 
            "name": "python3", 
            "language": "python"
        }, 
        "language_info": {
            "mimetype": "text/x-python", 
            "nbconvert_exporter": "python", 
            "version": "3.5.5", 
            "name": "python", 
            "file_extension": ".py", 
            "pygments_lexer": "ipython3", 
            "codemirror_mode": {
                "version": 3, 
                "name": "ipython"
            }
        }
    }, 
    "nbformat": 4
}